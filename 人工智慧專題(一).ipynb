{
 "cells": [
  {
   "cell_type": "markdown",
   "id": "9adee034",
   "metadata": {},
   "source": [
    "字本評估方法:<br>\n",
    "Term Frequency(tf)<br>\n",
    "Inverse document frequency(itf)<br>\n",
    "tf-idf(t, d, D) = tf(t, d) * idf(t, D)\n",
    "\n",
    "Term frequency (字頻）is the relative frequency of term t within\n",
    "document d<p>\n",
    "$tf(t, d) = \\frac{f_{t, d}}{\\sum_{t' \\in d}f_{ti, d}}$<p>\n",
    "\n",
    "$idf(t, d) = log\\frac{N}{\\vert \\{d \\in D: t \\in d\\}\\vert}$<p>\n",
    "\n",
    "N: total number of documents in the corpus $N = \\vert D \\vert$<br>\n",
    "$\\vert \\{ d \\in D: t \\in d\\}\\vert$: number of documents where the term t appears<br>\n",
    "<hr>\n",
    "\n",
    "BM = Best Matching<br>\n",
    "Okapi BM25<p>\n",
    "Given a query Q, containing keywords q1, · · · , qn, the BM25 score of\n",
    "document D is:<p>\n",
    "$$score(D, Q) = \\sum_{i = 1}^{n} IDF(q_i) * \\frac{f(q_i, D) * (k_1 + 1)}{f(q_i, D) + k_1 * (1 - b + b * \\frac{\\vert D \\vert}  {avgdl})}$$<p>\n",
    "where $f(q_i, D)$ is $q_i$'s term frequency, $\\vert D \\vert$ is the length of document D in word, avgdl is the average document length in the text collection from which document are drown. $k_1$ and $b$ are free parameters, usually chosen, in absence of an advanced optimization\n",
    "\n",
    "$$IDF(q_i) = ln(\\frac{N - n(q_i) + 0.5}{n(q_i + 0.5} + 1)$$<p>\n",
    "is the IDF weight of the query term $q_i$, where N is the total number of documents in the collection and $n(q_i)$ is the number of documents containing $q_i$.<br>\n",
    "<hr>\n",
    "\n",
    "\n",
    "\n",
    "網頁重要性: visit counts 流量<p>\n",
    "\n",
    "visit a page: follow links randomly<p>\n",
    "\n",
    "PageRank(PR)(google used):<p>\n",
    "simple ranking:<br>\n",
    "$$ R(u) = c\\sum_{v \\rightarrow u}\\frac{R(v)}{d_v}$$<p>\n",
    "\n",
    "$d_v$ is the degree of v<p>\n",
    "以向量方式表示: 令A為web page 的 Stochatic adjacency matrix\n",
    "$$ A_{uv} = \\begin{cases}\n",
    "           \\frac{1}{d_v} & \\mbox{there is a link from v to u}\\\\\n",
    "           0 & \\mbox{if not}          \n",
    "           \\end{cases}.$$\n",
    "\n",
    "if R is the vector of page rank, then $R = cAR$\n",
    "\n",
    "Large Web-Size Grapgs\n",
    "\n",
    "Encounter problem:\n",
    "* Large adjacency matrix $\\rightarrow$ Find eigenvectors\n",
    "* $R = \\lambda AR \\rightarrow R$ is a stable vextor \n",
    "* idea: random$R_0$, if $lim_{n \\rightarrow \\infty}A^nR_0 = r$ exists, then $Ar = r$.\n",
    "* power iteration\n",
    "    * Let $ R_0 = (\\frac{1}{N}, \\dots, \\frac{1}{N})$\n",
    "    * $R_{n + 1} = AR_n$\n",
    "    * Stop when $\\vert R_{n + 1} - R_n\\vert_1 < \\varepsilon$<p>\n",
    "Page Rank: Problem\n",
    "* Dead ends: Some pages have no out-links\n",
    "* Spider traps: All out-links within the group<p>\n",
    "\n",
    "solution:\n",
    "* With probability $\\beta$, follow a link\n",
    "* With probability $1 − \\beta$, jump to some random page $E$ (preference\n",
    "vector)\n",
    "    \n",
    "$$ R(u) = \\beta \\sum_{v \\rightarrow u}\\frac{R(v)}{d_v} + (1 - \\beta)E(u)$$\n",
    "<hr>\n",
    "\n",
    "HITS = Hyperlink-Induced Topic Search\n",
    "依照超連結的結構分成hubs 和 authorities，q 是一個term-based search query，要在收集來的網頁裡對應 topic t\n",
    "* Root set S: 在搜尋引擎上搜尋 q 會獲得的頁面（authorities 的候選）\n",
    "* Base set $C = S \\cup \\{p \\vert \\exists p' \\in S, p \\rightarrow p'\\} \\cup \\{p \\vert \\exists p'' \\in S, p'' \\rightarrow p'\\}$\n",
    "META-Algorithm\n",
    "* Link structure on $C: G = \\{(C, E)\\}$\n",
    "* $E = \\{(p, p')| p \\rightarrow p'\\}$: a directed edgee （has a hyperlink from p to p’)\n",
    "* $W \\in R^{\\vert c \\vert \\times \\vert c \\vert}$ adjacent matrix of G<p>\n",
    "    \n",
    "Kleinberg’s Mutual Reinforcement Approach\n",
    "* Two distinct types of Web pages: hubs and authorities.\n",
    "* a good hub will point to many authorities\n",
    "* a good authority will be pointed at by many hubs\n",
    "* $h(s)$: a hub weight of $s \\in C$\n",
    "* $a(s)$: a authority weight of $s \\in C$\n",
    "* $h(s) \\propto \\sum_{s \\rightarrow p}a(p)$\n",
    "* $a(s) \\propto \\sum_{p \\rightarrow s}h(p)$\n",
    "    \n",
    "Kleinberg’s Algorithm (HITS)\n",
    "* $a(s) \\leftarrow 1, h(s) \\leftarrow 1$\n",
    "* $a(s) \\leftarrow \\sum_{p \\rightarrow s}h(p) \\Longleftrightarrow a\\leftarrow W^Th$\n",
    "* $h(s) \\leftarrow \\sum_{s \\rightarrow p}a(p) \\Longleftrightarrow h \\leftarrow Wa$\n",
    "* $a(s) \\leftarrow \\frac{a(s)}{\\sum_sa(s)} \\Longleftrightarrow a \\leftarrow \\frac{a}{\\sum_ia_i}$\n",
    "* $h(s) \\leftarrow \\frac{h(s)}{\\sum_sh(s)} \\Longleftrightarrow h \\leftarrow \\frac{h}{\\sum_ih_i}$\n",
    "* until converges\n",
    "    \n",
    "* a 是 normalized $W^TW$ 的 principal eigenvector\n",
    "* h 是 normalized $WW^T$ 的 principal eigenvector\n",
    "<hr>\n",
    "\n",
    "META-ALGORITHM for link-structure nanlysis\n",
    "\n",
    "判斷hubs 與 authorities page 方法:\n",
    "$H = WW^T$，$A = W^TW$ \n",
    "* 給定主題t，construct $C = \\{t_{hubs, t_{auths}}$，$n = \\vert C \\vert$\n",
    "* Construct hub matrix $H$ and authirities matrix $A$，將$M$: 只有一個正eigenvalue $\\lambda(M)$ with h multiplicity 1，且$\\lambda(M) > \\vert \\lambda' \\vert$: $\\lambda'$ any other eigenvalue.<br>\n",
    "$V_{\\lambda(M)}$: unit eigenvector(principal eigenvector)\n",
    "* $k < n$: 像對於 $V_{\\lambda(M)}$ 向量的 component 最大值的座標數：這形成 $C$裡的 principal algebraic community authorities (for $M = A$) or hubs\n",
    "(for $M = H$)\n",
    "<hr>\n",
    "\n",
    "SALSA = Stochastic Approach for Link-Structure Analysis<br>\n",
    "SALSA: SALSA can be seen as an improvement of HITS.The approach is based upon the theory of Markov chains and relies on the stochastic properties of random walks performed on our collection of pages.<p>\n",
    "\n",
    "Definition of SALSA:\n",
    "* A bipartite undirected graph $\\tilde{G} = (V_h, V_a, E)$\n",
    "* $V_h = \\{s \\in C \\vert out-degree(s) > 0\\}$: the hub side of $\\tilde{G}$\n",
    "* $V_a = \\{s \\in C \\vert in-degree(s) > 0\\}$: the authorities side of $\\tilde{G}$\n",
    "* $E = \\{(s_h, r_a)\\vert s \\rightarrow r\\}$\n",
    "\n",
    "SALSA in matrix form\n",
    "* Let $W$ be adjacency matrix of the directed graph defined by its link\n",
    "structure.\n",
    "* Let $W_r = W$ / row sum,  $W_c = W$ / column sum\n",
    "* The Hub matrix $\\tilde{H} = W_rW_c^T$\n",
    "* The Authority matrix $\\tilde{A} = W_c^TW_r$\n",
    "* $\\tilde{H}$ and $\\tilde{A}$ are primitive and irreducible \n",
    "\n",
    "SALSA 與 HITS 的比較\n",
    "* SALSA 的算法由於不是跑整個 graph，所以運算量較低\n",
    "* HITS 只考慮往前連結，但 SALSA 有將返回的現象加入機制\n",
    "* SALSA 只考慮相鄰網頁對自身的影響，HITS 考慮所收集到的網頁\n",
    "對自身的影響\n",
    "\n",
    "\n",
    "\n",
    "<hr>\n",
    " \n",
    "Related Pins at Pinterest<p>\n",
    "模型流程\n",
    "* Candidate Generation\n",
    "* Ranking\n",
    "* Memboost\n",
    "\n",
    "Pin-Board Graph\n",
    "* G = (P, B, E)\n",
    "* P = {p: pins}\n",
    "* B = {b: boards}\n",
    "* E = {e: link between pins and boards}\n",
    "    \n",
    "進階 random walk\n",
    "Multiple query pins with weights<p>\n",
    "考慮多個 query‧有一個 query set $Q = {(q,wq)}$ 有多個 pin，推薦 pin 若跟較多個 query 有關係，它的重要性應該比較高，分別計\n",
    "算每個 query $q \\in Q$ 的 counter $V_q[p]$，因為 degree 較高的 q，被很多 board加，需要較長的 step 才走得出來‧所以，對每個 query 有不同 random\n",
    "walk 的長度有不同的 scaling factor:<br>\n",
    "    $s_q = \\vert E(q) \\vert(C - log\\vert E(q) \\vert)$<P>\n",
    "where $ C = max_{p \\in P}\\vert E(p)\\vert$ maximal pin degree‧每個 random walk starting from pin q 的長度：<p>\n",
    "    $N_q = w_qN\\frac{s_q}{\\sum_{r \\in Q}S_r}$\n",
    "Multi-hit Booster<p>\n",
    "推薦 pin 若跟較多個 query 有關係，它的重要性應該比較高，計算\n",
    "與所有 query set 的互動加權分數<br>\n",
    "    $V[p] = (\\sum_{q \\in Q}\\sqrt{V_q[p]})^2$<p>\n",
    "Early Stopping<p>\n",
    "是否要對每個 query pin 都維持 random walk $N_q$ 的長度，若 walk\n",
    "的至少有 $n_p$ 個 candidate pins，每個至少拜訪 $n_v$ 次，就先結束此\n",
    "random walk<p>\n",
    "session Co-occurrence: Pin2Vec<p>\n",
    "<hr>   \n",
    "    \n",
    "BackPropagation-Supervised learning<p>\n",
    "    \n",
    " \n",
    "Data set $D = \\{(x1, y1), \\dots, (x_N, y_N)\\}, \\widehat{y} = f(z)$<br>\n",
    "\n",
    "Loss function(MSE):<br>\n",
    "$ L = \\frac{1}{N}\\sum_{i = 1}^N\\vert \\hat{y}_i - y_i\\vert^2$\n",
    "    \n",
    "    \n",
    "Learning 的目標是求 L 的極小值\n",
    "參數更新的方式：<p>\n",
    "$w_i(t + 1) = w_i(t) - \\lambda \\frac{\\partial L}{\\partial w_i}(w(t))$<br>\n",
    "$\\lambda$: learning rate\n",
    "<hr>\n",
    "    \n",
    "Supervise Learning 監督式學習<p>\n",
    "* Labels\n",
    "* Models (萃取特徵＋ Classifying layer）\n",
    "* Objective functions\n",
    "\n",
    "    \n",
    "Machine Learning\n",
    "* Supervised Learning 監督式學習 (ground truth labels+objective\n",
    "function)\n",
    "* Self-supervised Learning 自監督式學習（標籤是與生俱來）\n",
    "* Semi-supervised Learning 半監督式學習（帶少量標籤、部分標籤）\n",
    "* Unsupervised Learning 無監督式學習（不帶標籤）K-means,\n",
    "auto-encode   \n",
    "<hr>\n",
    "pinSage:\n",
    "* 將鄰居的鄰居向量經 affine transformation$\\rightarrow$ReLU$\\rightarrow$aggregation\n",
    "(importance pooling) $\\rightarrow$ 鄰居向量\n",
    "* concatenate 自己與鄰居的向量$\\rightarrow$affine transformation$\\rightarrow$ReLU $\\rightarrow$ 自\n",
    "己的向量\n",
    "* normalized 成自己新的embedding\n",
    "Loss function: triplet loss\n",
    "    \n",
    "<hr>\n",
    "\n",
    "Laplacian<p>\n",
    "\n",
    "<hr>\n",
    "LSTM 1997\n",
    "W2W 2013\n",
    "Glove, Seq2Seq 2014\n",
    "transformation attentioon 2017\n",
    "ELMO 2018\n",
    "BERT, GPT 2019\n"
   ]
  },
  {
   "cell_type": "markdown",
   "id": "139ddf94",
   "metadata": {},
   "source": [
    "### Homework 1\n",
    "自行設定一個 query，在搜尋引擎上搜尋，取前三篇文章（不包括廣\n",
    "告）‧計算 3 documents 中，tf-idf 分數最高的 top-5，獲取“關鍵字”\n",
    "The problems that you may encounter:\n",
    "* 如何存資料、在那裡做計算、如何產生 output\n",
    "* 斷字: Jieba (pip install jieba) jieba.cut\n",
    "* (key, value)"
   ]
  },
  {
   "cell_type": "code",
   "execution_count": 1,
   "id": "db7d4d8b",
   "metadata": {},
   "outputs": [],
   "source": [
    "from selenium import webdriver\n",
    "from selenium.webdriver.chrome.options import Options\n",
    "from selenium.webdriver.common.by import By\n",
    "from selenium.webdriver.common.keys import Keys"
   ]
  },
  {
   "cell_type": "code",
   "execution_count": null,
   "id": "e9cb2343",
   "metadata": {},
   "outputs": [],
   "source": [
    "options = Options()\n",
    "options.add_argument(\"--disable-notifications\")\n",
    "driver = webdriver.Chrome('chromedriver', chrome_options=options) \n",
    "query = '羽球'\n",
    "driver.get('https://www.google.com')\n",
    "keyword = driver.find_element(By.CSS_SELECTOR, '.gLFyf')\n",
    "keyword.send_keys(\"羽球\")\n",
    "keyword.send_keys(Keys.ENTER)"
   ]
  },
  {
   "cell_type": "code",
   "execution_count": null,
   "id": "e9aa70a8",
   "metadata": {},
   "outputs": [],
   "source": [
    "a = driver.find_elements(By.CLASS_NAME, 'mCBkyc')\n",
    "x = 0\n",
    "for i in a[0:3]:\n",
    "    i.click()\n",
    "    if x == 0:\n",
    "        b = driver.find_elements(By.XPATH, '//div/p[position() < 7]')\n",
    "    elif x == 1:\n",
    "        b = driver.find_elements(By.XPATH, '//p[position() > 1 and position() < 8]')\n",
    "    elif x == 2:\n",
    "        b = driver.find_elements(By.XPATH, '//p')\n",
    "    with open('人工智慧作業(一).txt', 'a', encoding='UTF-8') as f:\n",
    "        y = 0\n",
    "        for j in b:\n",
    "            y += 1\n",
    "            if y == 7:\n",
    "                break\n",
    "            f.write(j.text)\n",
    "            f.write('\\n')\n",
    "            \n",
    "    x += 1\n",
    "    driver.back()\n",
    "    time.sleep(0.5)\n",
    "driver.close()"
   ]
  },
  {
   "cell_type": "code",
   "execution_count": 14,
   "id": "dc1cae6e",
   "metadata": {},
   "outputs": [
    {
     "data": {
      "text/plain": [
       "['體育中心／陳冠宇報導',\n",
       " '球迷久等了！台灣羽球一姐戴資穎結束9月初的日本公開賽後，下一次比賽要等到10月18日開打的超級750系列丹麥公開賽，世界羽聯BWF日前也公布籤表，榮膺第2種子的戴資穎，首輪將碰上泰國世界排名12的選手布沙南（Busanan Ongbamrungphan），有望在八強賽碰上好友依瑟儂（Ratchanok Intanon），上演經典對決！',\n",
       " 'BWF日前公布丹麥公開賽籤表，女單世界前10除了印度辛度、南韓安洗瑩沒有參加外，全部都投入這場比賽，其中台灣球迷最關注的戴資穎被分到籤表下半部，首場比賽將碰上泰國布沙南，有望在8強碰上老對手依瑟儂，上演兩人第33次對決，順利過關後，則可能碰上中國陳雨菲或泰國蓬帕威（Pornpawee Chochuwong）。',\n",
       " '',\n",
       " '據了解，小戴過去曾在2018、2019年完成丹麥公開賽二連霸，今年若也順利拿下冠軍，將成為史上第七位在丹麥賽拿下至少3冠的女單選手，好表現值得球迷期待！除了小戴外，世界排名第33的「交大學霸」許玟琪也將出戰丹麥賽，將在首輪碰上泰國世界排名第17好手猜萬（Lalinrat Chaiwan），「小小白」白馭珀則將在首輪碰上地主好手克里絲多福森（Line Christophersen）。',\n",
       " '最後在男單部分，近況火熱的台灣一哥周天成榮膺大會第五種子，將在首輪碰上泰國選手王高倫，世界排名第14的王子維則將在首輪碰上馬來西亞劉國倫，恰巧被分在同一區的兩人若都贏球，將在16強上演「台灣內戰」，也是球迷不能錯過的精采對決。',\n",
       " '〔體育中心／綜合報導〕世界羽聯（BWF）今天將更新世界排名，「戴博士」戴資穎的世界排名積分未被扣，仍高居女單第2，而東奧男雙金牌組合李洋／王齊麟升至世界第2，寶島一哥周天成躍居世界第4。',\n",
       " '戴資穎本週積分維持109045分，高居女單世界第2，落後世界球后山口茜2968分，中國一姐陳雨菲因為積分的「校正回歸」，2019福州公開賽和香港公開賽的冠軍積分都被扣除，積分降至102006分，下跌至第4名，南韓安洗瑩也因此上升至第3名，5至10名依序為西班牙瑪琳、印度辛度、泰國依瑟儂、日本奧原希望、泰國李美妙和中國何冰嬌。',\n",
       " '請繼續往下閱讀...',\n",
       " '',\n",
       " '男單方面，世界球王安賽龍依舊以122606分獨占鰲頭，而近期表現不佳的桃田賢斗，因為痛失2019年福州公開賽冠軍積分，被扣了6200分，從第2名大幅下滑至第5名，丹麥安童森、馬來西亞李梓嘉以及台灣周天成都上升一名。另外，王子維也爬升至第14名。',\n",
       " '男雙方面，日本組合小林優吾／保木卓朗繼續蟬聯世界第一，印尼「小黃人組合」吉德翁／蘇卡穆約下跌到世界第3，李洋／王齊麟雖然被扣掉2019年南韓大師賽的冠軍積分7000分，但以印尼大師賽8強積分6050分遞補，總積分略降至98518分，仍升上生涯最佳的世界第2。',\n",
       " '',\n",
       " '',\n",
       " '戴資穎在2021年1月於泰國舉辦的2020年終總決賽奪冠。（資料照）',\n",
       " '〔體育中心／綜合報導〕世界羽聯（BWF）稍早宣布2022年的世界巡迴賽年終總決賽將於12月14日至18日於中國廣州舉行，也是中國自2019年後再度舉辦國際賽。',\n",
       " '廣州曾在2018、2019年舉辦年終總決賽，中國自疫情爆發以來，實行嚴格的防疫政策，不僅中國國家隊球員一度得在泰國集訓，國際賽事也暫緩舉行。',\n",
       " '請繼續往下閱讀...']"
      ]
     },
     "execution_count": 14,
     "metadata": {},
     "output_type": "execute_result"
    }
   ],
   "source": [
    "x = []\n",
    "with open('人工智慧作業(一).txt', 'r', encoding='UTF-8') as f:\n",
    "    for line in f.readlines():\n",
    "        x.append(line.strip())\n",
    "x"
   ]
  },
  {
   "cell_type": "code",
   "execution_count": 15,
   "id": "4e1f9015",
   "metadata": {},
   "outputs": [],
   "source": [
    "x = [i.strip() for i in x if i.strip() != '']"
   ]
  },
  {
   "cell_type": "code",
   "execution_count": 16,
   "id": "61d2e0b0",
   "metadata": {},
   "outputs": [],
   "source": [
    "import jieba\n",
    "import jieba.analyse"
   ]
  },
  {
   "cell_type": "code",
   "execution_count": 17,
   "id": "1109b540",
   "metadata": {},
   "outputs": [
    {
     "name": "stderr",
     "output_type": "stream",
     "text": [
      "Building prefix dict from C:\\Users\\ian\\anaconda3\\Lib\\site-packages\\jieba\\dict.txt.big.txt ...\n",
      "Loading model from cache C:\\Users\\ian\\AppData\\Local\\Temp\\jieba.ua56f00cf5f06bf4205b2be2d5686baf0.cache\n",
      "Loading model cost 0.751 seconds.\n",
      "Prefix dict has been built successfully.\n"
     ]
    }
   ],
   "source": [
    "jieba.set_dictionary(r'C:\\Users\\ian\\anaconda3\\Lib\\site-packages\\jieba\\dict.txt.big.txt')\n",
    "jieba.load_userdict(r'C:\\Users\\ian\\anaconda3\\Lib\\site-packages\\jieba\\jie.txt')"
   ]
  },
  {
   "cell_type": "code",
   "execution_count": 18,
   "id": "90c0f01e",
   "metadata": {},
   "outputs": [
    {
     "name": "stdout",
     "output_type": "stream",
     "text": [
      "體育中心/／/陳冠宇/報導\n",
      "球迷/久等/了/！/台灣/羽球/一姐/戴資穎/結束/9/月初/的/日本/公開賽/後/，/下/一次/比賽/要/等到/10/月/18/日/開打/的/超級/750/系列/丹麥/公開賽/，/世界羽聯/BWF/日前/也/公布/籤/表/，/榮膺/第/2/種子/的/戴資穎/，/首輪/將/碰上/泰國/世界排名/12/的/選手/布沙南/（/Busanan/ /Ongbamrungphan/）/，/有望/在/八強賽/碰上/好友/依瑟儂/（/Ratchanok/ /Intanon/）/，/上演/經典/對決/！\n",
      "BWF/日前/公布/丹麥/公開賽/籤/表/，/女單/世界/前/10/除了/印度/辛度/、/南韓/安洗瑩/沒有/參加/外/，/全部/都/投入/這場/比賽/，/其中/台灣/球迷/最/關注/的/戴資穎/被/分到/籤/表下/半部/，/首場/比賽/將/碰上/泰國/布沙南/，/有望/在/8/強/碰上/老/對手/依瑟儂/，/上演/兩人/第/33/次/對決/，/順利/過關/後/，/則/可能/碰上/中國/陳雨菲/或/泰國/蓬帕威/（/Pornpawee/ /Chochuwong/）/。\n",
      "據/了解/，/小/戴過去/曾/在/2018/、/2019/年/完成/丹麥/公開賽/二連/霸/，/今年/若/也/順利/拿下/冠軍/，/將成/為史/上/第七位/在/丹麥/賽/拿下/至少/3/冠/的/女單/選手/，/好/表現/值得/球迷/期待/！/除了/小戴外/，/世界/排名第/33/的/「/交/大學/霸/」/許玟/琪/也將/出戰/丹麥/賽/，/將在/首輪/碰上/泰國/世界/排名第/17/好手/猜萬/（/Lalinrat/ /Chaiwan/）/，/「/小小白/」/白馭珀/則將/在/首輪/碰上/地主/好手/克里絲多福森/（/Line/ /Christophersen/）/。\n",
      "最後/在/男單/部分/，/近況/火熱/的/台灣/一哥/周天成/榮膺/大會/第五/種子/，/將在/首輪/碰上/泰國/選手/王高倫/，/世界/排名第/14/的/王子/維則將/在/首輪/碰上/馬來西亞/劉國倫/，/恰巧/被/分/在/同一/區的/兩人/若/都/贏球/，/將在/16/強/上演/「/台灣/內戰/」/，/也/是/球迷/不能/錯過/的/精采/對決/。\n",
      "〔/體育中心/／/綜合/報導/〕/世界羽聯/（/BWF/）/今/天將/更新/世界排名/，/「/戴/博士/」/戴資穎/的/世界排名/積分/未/被扣/，/仍/高居/女單/第/2/，/而/東奧/男雙/金牌/組合/李洋/／/王齊麟/升至/世界/第/2/，/寶島/一哥/周天成/躍居/世界/第/4/。\n",
      "戴資穎/本週/積分/維持/109045/分/，/高居/女單/世界/第/2/，/落後/世界/球后/山口茜/2968/分/，/中國/一姐/陳雨菲/因為/積分/的/「/校正/回歸/」/，/2019/福州/公開賽/和/香港/公開賽/的/冠軍/積分/都/被/扣除/，/積分/降至/102006/分/，/下跌/至/第/4/名/，/南韓/安洗瑩/也/因此/上升/至/第/3/名/，/5/至/10/名/依序/為/西班牙/瑪琳/、/印度/辛度/、/泰國/依瑟儂/、/日本/奧原/希望/、/泰國/李/美妙/和/中國/何冰嬌/。\n",
      "請/繼續/往/下/閱讀/...\n",
      "男單/方面/，/世界/球王/安賽龍/依舊/以/122606/分獨/占/鰲頭/，/而/近期/表現/不佳/的/桃田賢斗/，/因為/痛失/2019/年/福州/公開賽/冠軍/積分/，/被扣/了/6200/分/，/從/第/2/名/大幅/下滑/至/第/5/名/，/丹麥/安童森/、/馬來西亞/李梓嘉/以及/台灣/周天成/都/上升/一名/。/另外/，/王子/維/也/爬升/至/第/14/名/。\n",
      "男雙/方面/，/日本/組合/小林/優吾/／/保木卓朗/繼續/蟬聯/世界/第一/，/印尼/「/小/黃人/組合/」/吉德翁/／/蘇卡/穆約/下跌/到/世界/第/3/，/李洋/／/王齊麟/雖然/被/扣掉/2019/年/南韓/大師賽/的/冠軍/積分/7000/分/，/但/以/印尼/大師賽/8/強/積分/6050/分/遞補/，/總/積分/略降/至/98518/分/，/仍升/上/生涯/最佳/的/世界/第/2/。\n",
      "戴資穎/在/2021/年/1/月/於/泰國/舉辦/的/2020/年終/總決賽/奪冠/。/（/資料/照/）\n",
      "〔/體育中心/／/綜合/報導/〕/世界羽聯/（/BWF/）/稍早/宣布/2022/年/的/世界/巡迴賽/年終/總決賽/將於/12/月/14/日至/18/日/於/中國/廣州/舉行/，/也/是/中國/自/2019/年/後/再度/舉辦/國際/賽/。\n",
      "廣州/曾/在/2018/、/2019/年/舉辦/年終/總決賽/，/中國/自/疫情/爆發/以來/，/實行/嚴格/的/防疫/政策/，/不僅/中國國家隊/球員/一度/得/在/泰國/集訓/，/國際/賽事/也/暫緩/舉行/。\n",
      "請/繼續/往/下/閱讀/...\n"
     ]
    }
   ],
   "source": [
    "for i in x:\n",
    "    words = jieba.cut(i, cut_all=False, use_paddle=True)\n",
    "    print('/'.join(list(words)))"
   ]
  },
  {
   "cell_type": "code",
   "execution_count": 20,
   "id": "f13ba6e0",
   "metadata": {},
   "outputs": [],
   "source": [
    "x = ' '.join(x)"
   ]
  },
  {
   "cell_type": "code",
   "execution_count": 21,
   "id": "de649e09",
   "metadata": {},
   "outputs": [
    {
     "data": {
      "text/plain": [
       "[('泰國', 0.2573993003016746),\n",
       " ('積分', 0.2573993003016746),\n",
       " ('公開賽', 0.20019945579019138),\n",
       " ('戴資穎', 0.17159953353444976),\n",
       " ('丹麥', 0.17159953353444976)]"
      ]
     },
     "execution_count": 21,
     "metadata": {},
     "output_type": "execute_result"
    }
   ],
   "source": [
    "jieba.analyse.extract_tags(x, topK=5, withWeight=True)"
   ]
  },
  {
   "cell_type": "markdown",
   "id": "14104a59",
   "metadata": {},
   "source": [
    "### Homework 2\n",
    "自行畫一個 5 個 node 的有向圖（directed graph），計算此圖中的 page\n",
    "rank 分數 Problems that you may encounter\n",
    "* power iteration or solving by finding eigenvectors\n",
    "* Is there a solution?\n",
    "* Compute by hands or compute"
   ]
  },
  {
   "cell_type": "code",
   "execution_count": 1,
   "id": "251b391c",
   "metadata": {},
   "outputs": [],
   "source": [
    "import matplotlib.pyplot as plt\n",
    "import networkx as nx\n",
    "import numpy as np"
   ]
  },
  {
   "cell_type": "code",
   "execution_count": 2,
   "id": "7f678982",
   "metadata": {},
   "outputs": [],
   "source": [
    "nodes = ['a', 'b', 'c', 'd', 'e']\n",
    "edges = [('a', 'b', 1/4), ('a', 'c', 1/4), ('a', 'd', 1/4), ('a', 'e', 1/4), ('b', 'c', 1/2), ('b', 'd', 1/2), ('c', 'a', 1/4), ('c', 'b', 1/4), ('c', 'd', 1/4), ('c', 'e', 1/4), ('e', 'c', 1/2), ('e', 'd', 1/2)]"
   ]
  },
  {
   "cell_type": "code",
   "execution_count": 3,
   "id": "550e3f16",
   "metadata": {},
   "outputs": [
    {
     "data": {
      "image/png": "[encoded data removed]",
      "text/plain": [
       "<Figure size 432x288 with 1 Axes>"
      ]
     },
     "metadata": {},
     "output_type": "display_data"
    }
   ],
   "source": [
    "plt.figure()\n",
    "g1 = nx.DiGraph()\n",
    "g1.add_nodes_from(nodes)\n",
    "g1.add_weighted_edges_from(edges)\n",
    "nx.draw(g1, nx.circular_layout(g1), with_labels = True, font_weight = 'bold')"
   ]
  },
  {
   "cell_type": "code",
   "execution_count": 26,
   "id": "491eebad",
   "metadata": {},
   "outputs": [],
   "source": [
    "x = np.array([[0, 1/4, 1/4, 1/4, 1/4], [0, 0, 1/2, 1/2, 0], [1/4, 1/4, 0, 1/4, 1/4], [0, 0, 0, 0, 0], [0, 0, 1/2, 1/2, 0]])\n",
    "c = np.linalg.eig(x)"
   ]
  },
  {
   "cell_type": "code",
   "execution_count": 27,
   "id": "e3d05246",
   "metadata": {},
   "outputs": [
    {
     "data": {
      "text/plain": [
       "array([-0.3903882, -0.25     ,  0.6403882,  0.       ,  0.       ])"
      ]
     },
     "execution_count": 27,
     "metadata": {},
     "output_type": "execute_result"
    }
   ],
   "source": [
    "c[0]"
   ]
  },
  {
   "cell_type": "code",
   "execution_count": 28,
   "id": "98beb58b",
   "metadata": {},
   "outputs": [
    {
     "data": {
      "text/plain": [
       "array([[-4.35162146e-01, -7.07106781e-01,  5.57345410e-01,\n",
       "         0.00000000e+00, -5.77350269e-01],\n",
       "       [ 5.57345410e-01,  4.71404521e-01,  4.35162146e-01,\n",
       "        -7.07106781e-01, -1.92296269e-16],\n",
       "       [-4.35162146e-01, -2.35702260e-01,  5.57345410e-01,\n",
       "         0.00000000e+00, -5.77350269e-01],\n",
       "       [ 0.00000000e+00,  0.00000000e+00,  0.00000000e+00,\n",
       "         0.00000000e+00,  5.77350269e-01],\n",
       "       [ 5.57345410e-01,  4.71404521e-01,  4.35162146e-01,\n",
       "         7.07106781e-01, -2.24345647e-16]])"
      ]
     },
     "execution_count": 28,
     "metadata": {},
     "output_type": "execute_result"
    }
   ],
   "source": [
    "c[1]"
   ]
  },
  {
   "cell_type": "markdown",
   "id": "12960676",
   "metadata": {},
   "source": [
    "特徵值不為負所以只有0.6403882那筆\n"
   ]
  },
  {
   "cell_type": "code",
   "execution_count": 29,
   "id": "95d054f7",
   "metadata": {},
   "outputs": [
    {
     "data": {
      "text/plain": [
       "array([-0.43516215, -0.23570226,  0.55734541,  0.        , -0.57735027])"
      ]
     },
     "execution_count": 29,
     "metadata": {},
     "output_type": "execute_result"
    }
   ],
   "source": [
    "c[1][2,:]"
   ]
  },
  {
   "cell_type": "markdown",
   "id": "2f3f43dc",
   "metadata": {},
   "source": [
    "### Homework3\n",
    "使用作業二的圖，若 k = 1，在 HITS 算法中，誰是 authority？誰是\n",
    "hub？\n",
    "在 SALSA 算法中，誰是 authority？誰是 hub？"
   ]
  },
  {
   "cell_type": "code",
   "execution_count": 8,
   "id": "fc41bbba",
   "metadata": {},
   "outputs": [],
   "source": [
    "hubs, authorities = nx.hits(g1, max_iter = 50, normalized = True)#HITS"
   ]
  },
  {
   "cell_type": "code",
   "execution_count": 9,
   "id": "6f1b4d8d",
   "metadata": {},
   "outputs": [
    {
     "data": {
      "text/plain": [
       "{'a': 0.20190311048201695,\n",
       " 'b': 0.3349522944818139,\n",
       " 'c': 0.12819230055435524,\n",
       " 'd': 0.0,\n",
       " 'e': 0.3349522944818139}"
      ]
     },
     "execution_count": 9,
     "metadata": {},
     "output_type": "execute_result"
    }
   ],
   "source": [
    "hubs #b, e"
   ]
  },
  {
   "cell_type": "code",
   "execution_count": 10,
   "id": "8e2eff0c",
   "metadata": {},
   "outputs": [
    {
     "data": {
      "text/plain": [
       "{'a': 0.03204807548813599,\n",
       " 'b': 0.08252385326005092,\n",
       " 'c': 0.3854280712518131,\n",
       " 'd': 0.4174761467399491,\n",
       " 'e': 0.08252385326005092}"
      ]
     },
     "execution_count": 10,
     "metadata": {},
     "output_type": "execute_result"
    }
   ],
   "source": [
    "authorities #d"
   ]
  },
  {
   "cell_type": "code",
   "execution_count": 12,
   "id": "b66e6825",
   "metadata": {},
   "outputs": [],
   "source": [
    "w_r = x = np.array([[0, 1/4, 1/4, 1/4, 1/4], [0, 0, 1/2, 1/2, 0], [1/4, 1/4, 0, 1/4, 1/4], [0, 0, 1/2, 1/2, 0]])\n",
    "w_ct = np.array([[0, 0, 1, 0], [1/2, 0, 1/2, 0], [1/3, 1/3, 0, 1/3], [1/4, 1/4, 1/4, 1/4], [1/2, 0, 1/2, 0]]) #SALSA"
   ]
  },
  {
   "cell_type": "code",
   "execution_count": 14,
   "id": "d3abb34d",
   "metadata": {},
   "outputs": [],
   "source": [
    "h = w_r.dot(w_ct)\n",
    "a = w_ct.dot(w_r)"
   ]
  },
  {
   "cell_type": "code",
   "execution_count": 16,
   "id": "ca68ec37",
   "metadata": {},
   "outputs": [],
   "source": [
    "c_h = np.linalg.eig(h)"
   ]
  },
  {
   "cell_type": "code",
   "execution_count": 17,
   "id": "638ee2e2",
   "metadata": {},
   "outputs": [
    {
     "data": {
      "text/plain": [
       "array([ 1.00000000e+00,  9.28332553e-02,  4.48833411e-01, -1.62177477e-18])"
      ]
     },
     "execution_count": 17,
     "metadata": {},
     "output_type": "execute_result"
    }
   ],
   "source": [
    "c_h[0]"
   ]
  },
  {
   "cell_type": "code",
   "execution_count": 18,
   "id": "1f2c03b7",
   "metadata": {},
   "outputs": [
    {
     "data": {
      "text/plain": [
       "array([-5.00000000e-01, -7.64315776e-01,  3.35146503e-02,  3.09245465e-16])"
      ]
     },
     "execution_count": 18,
     "metadata": {},
     "output_type": "execute_result"
    }
   ],
   "source": [
    "c_h[1][0]# h a"
   ]
  },
  {
   "cell_type": "code",
   "execution_count": 19,
   "id": "56637915",
   "metadata": {},
   "outputs": [],
   "source": [
    "c_a = np.linalg.eig(a)"
   ]
  },
  {
   "cell_type": "code",
   "execution_count": 20,
   "id": "7b6f1fd4",
   "metadata": {},
   "outputs": [
    {
     "data": {
      "text/plain": [
       "array([ 1.00000000e+00,  4.48833411e-01,  9.28332553e-02,  2.18265616e-17,\n",
       "       -2.21622393e-17])"
      ]
     },
     "execution_count": 20,
     "metadata": {},
     "output_type": "execute_result"
    }
   ],
   "source": [
    "c_a[0]"
   ]
  },
  {
   "cell_type": "code",
   "execution_count": 21,
   "id": "5349d8ff",
   "metadata": {},
   "outputs": [
    {
     "data": {
      "text/plain": [
       "array([-0.4472136 , -0.689365  , -0.84571921,  0.28540422, -0.2880987 ])"
      ]
     },
     "execution_count": 21,
     "metadata": {},
     "output_type": "execute_result"
    }
   ],
   "source": [
    "c_a[1][0]#authority d"
   ]
  },
  {
   "cell_type": "markdown",
   "id": "4eb887af",
   "metadata": {},
   "source": [
    "# Homework 4\n",
    "\n",
    "Given a simple neural network as following: Input data$\\{ (x_1, y_1), (x_2, y_2)\\}$, where $x_1 = (2, 0, 1)^T$, $y_1 = 1, x_2 = (0, 1, 0)^T, y_2 = 0$ The hidden layer is a 1-dimension space<br>\n",
    "$$ z = h(x) = W^Tx + b$$\n",
    "The output is \n",
    "$$\\hat{y} = \\sigma(h(x)),$$ where $\\sigma(x) = \\frac{1}{1 + e^{-x}}$ is the sigmoid fuction <br>\n",
    "This network is supervised by minimizing the Cross-Entropy\n",
    "$$ L = \\frac{1}{2}\\sum_{i = 1}^2 y_i log\\hat{y}_i$$\n",
    "Compute the first update of the weight $w^T = (w1,w2,w3)$ and b through\n",
    "backpropagation with learning rate 1. Suppose the initial weights are\n",
    "$w(0) = (0.5, 0.3, 0.2), b(0) = 1.$\n"
   ]
  },
  {
   "cell_type": "code",
   "execution_count": 19,
   "id": "14b1fad8",
   "metadata": {},
   "outputs": [],
   "source": [
    "from sympy import *\n",
    "import numpy as np"
   ]
  },
  {
   "cell_type": "code",
   "execution_count": 4,
   "id": "13ebdf1f",
   "metadata": {},
   "outputs": [
    {
     "data": {
      "text/plain": [
       "(y1, y2)"
      ]
     },
     "execution_count": 4,
     "metadata": {},
     "output_type": "execute_result"
    }
   ],
   "source": [
    "var(\"y1 y2\")"
   ]
  },
  {
   "cell_type": "code",
   "execution_count": 7,
   "id": "b43e02df",
   "metadata": {},
   "outputs": [],
   "source": [
    "loss = 1/2 * log(y2) * y1"
   ]
  },
  {
   "cell_type": "code",
   "execution_count": 8,
   "id": "a96a8989",
   "metadata": {},
   "outputs": [
    {
     "data": {
      "text/latex": [
       "$\\displaystyle \\frac{0.5 y_{1}}{y_{2}}$"
      ],
      "text/plain": [
       "0.5*y1/y2"
      ]
     },
     "execution_count": 8,
     "metadata": {},
     "output_type": "execute_result"
    }
   ],
   "source": [
    " diff(loss, y2)"
   ]
  },
  {
   "cell_type": "code",
   "execution_count": 12,
   "id": "0b8c2c4e",
   "metadata": {},
   "outputs": [
    {
     "data": {
      "text/latex": [
       "$\\displaystyle z$"
      ],
      "text/plain": [
       "z"
      ]
     },
     "execution_count": 12,
     "metadata": {},
     "output_type": "execute_result"
    }
   ],
   "source": [
    "var('z')"
   ]
  },
  {
   "cell_type": "code",
   "execution_count": 13,
   "id": "eb7e2480",
   "metadata": {},
   "outputs": [],
   "source": [
    "sig = 1/(1 + exp(z))"
   ]
  },
  {
   "cell_type": "code",
   "execution_count": 14,
   "id": "add156ba",
   "metadata": {},
   "outputs": [
    {
     "data": {
      "text/latex": [
       "$\\displaystyle - \\frac{e^{z}}{\\left(e^{z} + 1\\right)^{2}}$"
      ],
      "text/plain": [
       "-exp(z)/(exp(z) + 1)**2"
      ]
     },
     "execution_count": 14,
     "metadata": {},
     "output_type": "execute_result"
    }
   ],
   "source": [
    "diff(sig)"
   ]
  },
  {
   "cell_type": "code",
   "execution_count": 15,
   "id": "00e4710c",
   "metadata": {},
   "outputs": [
    {
     "data": {
      "text/latex": [
       "$\\displaystyle x$"
      ],
      "text/plain": [
       "x"
      ]
     },
     "execution_count": 15,
     "metadata": {},
     "output_type": "execute_result"
    }
   ],
   "source": [
    "var('x')"
   ]
  },
  {
   "cell_type": "code",
   "execution_count": 16,
   "id": "54b37ce7",
   "metadata": {},
   "outputs": [],
   "source": [
    "par = diff(loss, y2) * diff(sig) * x"
   ]
  },
  {
   "cell_type": "code",
   "execution_count": 17,
   "id": "dcec0812",
   "metadata": {},
   "outputs": [
    {
     "data": {
      "text/latex": [
       "$\\displaystyle - \\frac{0.5 x y_{1} e^{z}}{y_{2} \\left(e^{z} + 1\\right)^{2}}$"
      ],
      "text/plain": [
       "-0.5*x*y1*exp(z)/(y2*(exp(z) + 1)**2)"
      ]
     },
     "execution_count": 17,
     "metadata": {},
     "output_type": "execute_result"
    }
   ],
   "source": [
    "par"
   ]
  },
  {
   "cell_type": "code",
   "execution_count": 39,
   "id": "eba58d4c",
   "metadata": {},
   "outputs": [],
   "source": [
    "z1 = np.array([[2, 0, 1], [0, 1, 0]])\n",
    "w = np.array([0.5, 0.3, 0.2])"
   ]
  },
  {
   "cell_type": "code",
   "execution_count": 40,
   "id": "7264702a",
   "metadata": {},
   "outputs": [
    {
     "data": {
      "text/plain": [
       "array([2.2, 1.3])"
      ]
     },
     "execution_count": 40,
     "metadata": {},
     "output_type": "execute_result"
    }
   ],
   "source": [
    "w.dot(z1.T) + 1"
   ]
  },
  {
   "cell_type": "code",
   "execution_count": 41,
   "id": "12fa6cfd",
   "metadata": {},
   "outputs": [],
   "source": [
    "y3 = sig.evalf(subs = {'z': 2.2})\n",
    "y4 = sig.evalf(subs = {'z': 1.3})"
   ]
  },
  {
   "cell_type": "code",
   "execution_count": 33,
   "id": "e043355f",
   "metadata": {},
   "outputs": [
    {
     "data": {
      "text/latex": [
       "$\\displaystyle 0.110803158362334$"
      ],
      "text/plain": [
       "0.110803158362334"
      ]
     },
     "execution_count": 33,
     "metadata": {},
     "output_type": "execute_result"
    }
   ],
   "source": [
    "exp(-2.2)"
   ]
  },
  {
   "cell_type": "code",
   "execution_count": 42,
   "id": "4e35b339",
   "metadata": {},
   "outputs": [
    {
     "data": {
      "text/latex": [
       "$\\displaystyle -0.900249510880315$"
      ],
      "text/plain": [
       "-0.900249510880315"
      ]
     },
     "execution_count": 42,
     "metadata": {},
     "output_type": "execute_result"
    }
   ],
   "source": [
    "par.evalf(subs = {'x':2, 'y1':1, 'y2': y3, 'z': 2.2})#w1"
   ]
  },
  {
   "cell_type": "code",
   "execution_count": 43,
   "id": "228d9c93",
   "metadata": {},
   "outputs": [
    {
     "data": {
      "text/latex": [
       "$\\displaystyle 0$"
      ],
      "text/plain": [
       "0"
      ]
     },
     "execution_count": 43,
     "metadata": {},
     "output_type": "execute_result"
    }
   ],
   "source": [
    "par.evalf(subs = {'x':1, 'y1':0, 'y2': y4, 'z': 1.3})#w2"
   ]
  },
  {
   "cell_type": "code",
   "execution_count": 44,
   "id": "81b90613",
   "metadata": {},
   "outputs": [
    {
     "data": {
      "text/latex": [
       "$\\displaystyle -0.450124755440157$"
      ],
      "text/plain": [
       "-0.450124755440157"
      ]
     },
     "execution_count": 44,
     "metadata": {},
     "output_type": "execute_result"
    }
   ],
   "source": [
    "par.evalf(subs = {'x':1, 'y1':1, 'y2': y3, 'z': 2.2})#w3"
   ]
  },
  {
   "cell_type": "code",
   "execution_count": 45,
   "id": "4918aa4c",
   "metadata": {},
   "outputs": [
    {
     "data": {
      "text/latex": [
       "$\\displaystyle -0.450124755440157$"
      ],
      "text/plain": [
       "-0.450124755440157"
      ]
     },
     "execution_count": 45,
     "metadata": {},
     "output_type": "execute_result"
    }
   ],
   "source": [
    "par.evalf(subs = {'x':1, 'y1':1, 'y2': y3, 'z': 2.2}) + par.evalf(subs = {'x':1, 'y1':0, 'y2': y4, 'z': 1.3}) #b"
   ]
  },
  {
   "cell_type": "code",
   "execution_count": 46,
   "id": "01eaf559",
   "metadata": {},
   "outputs": [
    {
     "data": {
      "text/latex": [
       "$\\displaystyle 1.40024951088031$"
      ],
      "text/plain": [
       "1.40024951088031"
      ]
     },
     "execution_count": 46,
     "metadata": {},
     "output_type": "execute_result"
    }
   ],
   "source": [
    "0.5 - par.evalf(subs = {'x':2, 'y1':1, 'y2': y3, 'z': 2.2}) * 1 #w1(1)"
   ]
  },
  {
   "cell_type": "code",
   "execution_count": 47,
   "id": "a2b8be78",
   "metadata": {},
   "outputs": [
    {
     "data": {
      "text/latex": [
       "$\\displaystyle 0.3$"
      ],
      "text/plain": [
       "0.300000000000000"
      ]
     },
     "execution_count": 47,
     "metadata": {},
     "output_type": "execute_result"
    }
   ],
   "source": [
    "0.3 - par.evalf(subs = {'x':1, 'y1':0, 'y2': y4, 'z': 1.3}) #w2(1)"
   ]
  },
  {
   "cell_type": "code",
   "execution_count": 48,
   "id": "11872277",
   "metadata": {},
   "outputs": [
    {
     "data": {
      "text/latex": [
       "$\\displaystyle 0.650124755440157$"
      ],
      "text/plain": [
       "0.650124755440157"
      ]
     },
     "execution_count": 48,
     "metadata": {},
     "output_type": "execute_result"
    }
   ],
   "source": [
    "0.2 - par.evalf(subs = {'x':1, 'y1':1, 'y2': y3, 'z': 2.2})#w3(1)"
   ]
  },
  {
   "cell_type": "code",
   "execution_count": 49,
   "id": "5d784ec7",
   "metadata": {},
   "outputs": [
    {
     "data": {
      "text/latex": [
       "$\\displaystyle 1.45012475544016$"
      ],
      "text/plain": [
       "1.45012475544016"
      ]
     },
     "execution_count": 49,
     "metadata": {},
     "output_type": "execute_result"
    }
   ],
   "source": [
    "1 - (par.evalf(subs = {'x':1, 'y1':1, 'y2': y3, 'z': 2.2}) + par.evalf(subs = {'x':1, 'y1':0, 'y2': y4, 'z': 1.3}))#b(1)"
   ]
  },
  {
   "cell_type": "markdown",
   "id": "08860c5c",
   "metadata": {},
   "source": [
    "### 神經元"
   ]
  },
  {
   "cell_type": "code",
   "execution_count": 1,
   "id": "9877f7ef",
   "metadata": {},
   "outputs": [],
   "source": [
    "%matplotlib inline\n",
    "\n",
    "import numpy as np\n",
    "import matplotlib.pyplot as plt"
   ]
  },
  {
   "cell_type": "code",
   "execution_count": 2,
   "id": "38413abe",
   "metadata": {},
   "outputs": [],
   "source": [
    "x = np.array([[2, 0, 1], [0, 1, 0]])\n",
    "y = np.array([1, 0])"
   ]
  },
  {
   "cell_type": "code",
   "execution_count": 5,
   "id": "9bce5e81",
   "metadata": {},
   "outputs": [],
   "source": [
    "import tensorflow as tf\n",
    "from tensorflow.keras.models import Sequential\n",
    "from tensorflow.keras import initializers\n",
    "from tensorflow.keras.layers import Dense, Activation\n",
    "from tensorflow.keras.optimizers import SGD"
   ]
  },
  {
   "cell_type": "code",
   "execution_count": 6,
   "id": "21e9a56f",
   "metadata": {},
   "outputs": [],
   "source": [
    "model = Sequential()\n",
    "model.add(Dense(1,\n",
    "                input_dim=3,\n",
    "                name='onleOneLayer',\n",
    "                kernel_initializer=initializers.Constant(value=[.5, .3, .2]),\n",
    "                bias_initializer='zeros'\n",
    "                # kernel_initializer='zeros',\n",
    "                # bias_initializer='ones'\n",
    "                ))\n",
    "model.add(Activation('sigmoid'))"
   ]
  },
  {
   "cell_type": "code",
   "execution_count": 7,
   "id": "34e76949",
   "metadata": {},
   "outputs": [
    {
     "name": "stdout",
     "output_type": "stream",
     "text": [
      "Model: \"sequential\"\n",
      "_________________________________________________________________\n",
      " Layer (type)                Output Shape              Param #   \n",
      "=================================================================\n",
      " onleOneLayer (Dense)        (None, 1)                 4         \n",
      "                                                                 \n",
      " activation (Activation)     (None, 1)                 0         \n",
      "                                                                 \n",
      "=================================================================\n",
      "Total params: 4\n",
      "Trainable params: 4\n",
      "Non-trainable params: 0\n",
      "_________________________________________________________________\n"
     ]
    }
   ],
   "source": [
    "model.summary()"
   ]
  },
  {
   "cell_type": "code",
   "execution_count": 8,
   "id": "8be41f2c",
   "metadata": {},
   "outputs": [],
   "source": [
    "model.compile(loss='categorical_crossentropy',\n",
    "              optimizer='SGD',\n",
    "              metrics=['accuracy'])"
   ]
  },
  {
   "cell_type": "code",
   "execution_count": 13,
   "id": "4b97f7e8",
   "metadata": {},
   "outputs": [],
   "source": [
    "def checkWeights(init = False):\n",
    "\n",
    "    layer = model.get_layer('onleOneLayer')\n",
    "    (w, b) = layer.get_weights()\n",
    "    [w1] = w[0]\n",
    "    [w2] = w[1]\n",
    "    [w3] = w[2]\n",
    "    print(f'\\n       (w1, w2, w3, b) = {w1, w2, w3, b[0]}')\n",
    "    if init:\n",
    "        print('^^^^^^^^^^^^^^Init weights^^^^^^^^^^^^^^\\n')\n",
    "        \n"
   ]
  },
  {
   "cell_type": "code",
   "execution_count": 14,
   "id": "efdb3cf8",
   "metadata": {},
   "outputs": [
    {
     "name": "stdout",
     "output_type": "stream",
     "text": [
      "\n",
      "       (w1, w2, w3, b) = (0.5, 0.3, 0.2, 0.0)\n",
      "^^^^^^^^^^^^^^Init weights^^^^^^^^^^^^^^\n",
      "\n",
      "1/1 [==============================] - 0s 264ms/step - loss: 0.0000e+00 - accuracy: 0.5000\n",
      "\n",
      "       (w1, w2, w3, b) = (0.5, 0.29500002, 0.2, -0.005)\n"
     ]
    }
   ],
   "source": [
    "checkWeights(True)\n",
    "model.fit(x, y, batch_size=2, epochs=1)\n",
    "checkWeights()"
   ]
  },
  {
   "cell_type": "code",
   "execution_count": 15,
   "id": "85eb0876",
   "metadata": {},
   "outputs": [],
   "source": [
    "def runAgain(init = False):\n",
    "    global model\n",
    "\n",
    "    if init:\n",
    "\n",
    "        model = Sequential()\n",
    "        model.add(Dense(1,\n",
    "                        input_dim=3,\n",
    "                        name='onleOneLayer',\n",
    "                        kernel_initializer=initializers.Constant(value=[.5, .3, .2]),\n",
    "                        bias_initializer='zeros'\n",
    "                        ))\n",
    "        model.add(Activation('sigmoid'))\n",
    "        checkWeights(init)\n",
    "        model.compile(loss='categorical_crossentropy',\n",
    "                      optimizer=tf.keras.optimizers.SGD(learning_rate=1),\n",
    "                      metrics=['accuracy'])\n",
    "\n",
    "    model.fit(x, y, epochs=1)\n",
    "    checkWeights()"
   ]
  },
  {
   "cell_type": "code",
   "execution_count": 16,
   "id": "969f40f1",
   "metadata": {},
   "outputs": [
    {
     "name": "stdout",
     "output_type": "stream",
     "text": [
      "\n",
      "       (w1, w2, w3, b) = (0.5, 0.3, 0.2, 0.0)\n",
      "^^^^^^^^^^^^^^Init weights^^^^^^^^^^^^^^\n",
      "\n",
      "1/1 [==============================] - 0s 221ms/step - loss: 0.0000e+00 - accuracy: 0.5000\n",
      "\n",
      "       (w1, w2, w3, b) = (0.5, -0.19999999, 0.2, -0.5)\n"
     ]
    }
   ],
   "source": [
    "runAgain(True)"
   ]
  },
  {
   "cell_type": "code",
   "execution_count": 17,
   "id": "04d929b7",
   "metadata": {},
   "outputs": [],
   "source": [
    "from tensorflow.keras.datasets import imdb\n"
   ]
  },
  {
   "cell_type": "code",
   "execution_count": 18,
   "id": "ae87601c",
   "metadata": {},
   "outputs": [
    {
     "name": "stdout",
     "output_type": "stream",
     "text": [
      "Downloading data from https://storage.googleapis.com/tensorflow/tf-keras-datasets/imdb.npz\n",
      "17464789/17464789 [==============================] - 4s 0us/step\n"
     ]
    }
   ],
   "source": [
    "(x_train, y_train), (x_test, y_test) = imdb.load_data(num_words=7000)"
   ]
  },
  {
   "cell_type": "code",
   "execution_count": 19,
   "id": "57a683e0",
   "metadata": {},
   "outputs": [
    {
     "data": {
      "text/plain": [
       "(25000,)"
      ]
     },
     "execution_count": 19,
     "metadata": {},
     "output_type": "execute_result"
    }
   ],
   "source": [
    "x_train.shape"
   ]
  },
  {
   "cell_type": "code",
   "execution_count": 20,
   "id": "0333fa0f",
   "metadata": {},
   "outputs": [
    {
     "data": {
      "text/plain": [
       "25000"
      ]
     },
     "execution_count": 20,
     "metadata": {},
     "output_type": "execute_result"
    }
   ],
   "source": [
    "len(x_train)"
   ]
  },
  {
   "cell_type": "code",
   "execution_count": 21,
   "id": "fef7ac20",
   "metadata": {},
   "outputs": [
    {
     "data": {
      "text/plain": [
       "25000"
      ]
     },
     "execution_count": 21,
     "metadata": {},
     "output_type": "execute_result"
    }
   ],
   "source": [
    "len(x_test)"
   ]
  },
  {
   "cell_type": "code",
   "execution_count": 22,
   "id": "c77a408f",
   "metadata": {},
   "outputs": [
    {
     "data": {
      "text/plain": [
       "371"
      ]
     },
     "execution_count": 22,
     "metadata": {},
     "output_type": "execute_result"
    }
   ],
   "source": [
    "n = 13579\n",
    "i = n-1\n",
    "x_n = x_train[i]\n",
    "len(x_n)"
   ]
  },
  {
   "cell_type": "code",
   "execution_count": 23,
   "id": "c877c10a",
   "metadata": {},
   "outputs": [
    {
     "data": {
      "text/plain": [
       "[1, 230, 39, 3760, 4, 2, 1968, 1390, 535, 39]"
      ]
     },
     "execution_count": 23,
     "metadata": {},
     "output_type": "execute_result"
    }
   ],
   "source": [
    "x_n[:10]"
   ]
  },
  {
   "cell_type": "code",
   "execution_count": 24,
   "id": "c20c55ac",
   "metadata": {},
   "outputs": [
    {
     "data": {
      "text/plain": [
       "[12, 43, 115, 2, 752, 112, 35, 856, 2, 612]"
      ]
     },
     "execution_count": 24,
     "metadata": {},
     "output_type": "execute_result"
    }
   ],
   "source": [
    "x_n[-10:]"
   ]
  },
  {
   "cell_type": "code",
   "execution_count": 25,
   "id": "a91637bf",
   "metadata": {},
   "outputs": [
    {
     "name": "stdout",
     "output_type": "stream",
     "text": [
      "218, 189, 141, 550, 147, 43, 123, 562, 233, 130, "
     ]
    }
   ],
   "source": [
    "for i in range(10):\n",
    "    print(len(x_train[i]), end=', ')"
   ]
  },
  {
   "cell_type": "code",
   "execution_count": 26,
   "id": "f27f5095",
   "metadata": {},
   "outputs": [
    {
     "data": {
      "text/plain": [
       "0"
      ]
     },
     "execution_count": 26,
     "metadata": {},
     "output_type": "execute_result"
    }
   ],
   "source": [
    "y_train[i]"
   ]
  },
  {
   "cell_type": "code",
   "execution_count": 27,
   "id": "c69a3431",
   "metadata": {},
   "outputs": [
    {
     "name": "stdout",
     "output_type": "stream",
     "text": [
      "[1 0 0 1 0 0 1 0 1 0]\n"
     ]
    }
   ],
   "source": [
    "print(y_train[:10])"
   ]
  },
  {
   "cell_type": "code",
   "execution_count": 28,
   "id": "caa2d07f",
   "metadata": {},
   "outputs": [
    {
     "name": "stdout",
     "output_type": "stream",
     "text": [
      "# of 1 in TRAIN data = 12500, # of 1 in TEST data = 12500\n"
     ]
    }
   ],
   "source": [
    "print(f'# of 1 in TRAIN data = {y_train.sum()}, # of 1 in TEST data = {sum(y_test)}')"
   ]
  },
  {
   "cell_type": "code",
   "execution_count": 29,
   "id": "2f95de55",
   "metadata": {},
   "outputs": [
    {
     "name": "stdout",
     "output_type": "stream",
     "text": [
      "Downloading data from https://storage.googleapis.com/tensorflow/tf-keras-datasets/imdb_word_index.json\n",
      "1641221/1641221 [==============================] - 0s 0us/step\n"
     ]
    },
    {
     "data": {
      "text/plain": [
       "dict"
      ]
     },
     "execution_count": 29,
     "metadata": {},
     "output_type": "execute_result"
    }
   ],
   "source": [
    "word2int = imdb.get_word_index()\n",
    "type(word2int)"
   ]
  },
  {
   "cell_type": "code",
   "execution_count": 30,
   "id": "0782036d",
   "metadata": {},
   "outputs": [
    {
     "data": {
      "text/plain": [
       "52369"
      ]
     },
     "execution_count": 30,
     "metadata": {},
     "output_type": "execute_result"
    }
   ],
   "source": [
    "word2int['sugercoma']"
   ]
  },
  {
   "cell_type": "code",
   "execution_count": 31,
   "id": "862bfad5",
   "metadata": {},
   "outputs": [
    {
     "data": {
      "text/plain": [
       "[1, 230, 39, 3760, 4, 2, 1968, 1390, 535, 39, 6, 22, 15, 5519, 94]"
      ]
     },
     "execution_count": 31,
     "metadata": {},
     "output_type": "execute_result"
    }
   ],
   "source": [
    "x_n[:15]"
   ]
  },
  {
   "cell_type": "code",
   "execution_count": 32,
   "id": "323b381b",
   "metadata": {},
   "outputs": [],
   "source": [
    "int2Word = dict([(value,key) for (key,value) in word2int.items()])\n"
   ]
  },
  {
   "cell_type": "code",
   "execution_count": 33,
   "id": "ef5dbd97",
   "metadata": {},
   "outputs": [
    {
     "data": {
      "text/plain": [
       "'sugercoma'"
      ]
     },
     "execution_count": 33,
     "metadata": {},
     "output_type": "execute_result"
    }
   ],
   "source": [
    "int2Word[52369]"
   ]
  },
  {
   "cell_type": "code",
   "execution_count": 34,
   "id": "4e4f49be",
   "metadata": {},
   "outputs": [
    {
     "name": "stdout",
     "output_type": "stream",
     "text": [
      "the anything or lou of and perspective smart stuff or is you for el make human film of its epic and br marry and and and has to best had ambiguous sequel never out is and popular 9 de what of on with is melodramatic br succeeded and at girl buy to and and film is again and and to keeping this is and and and that monsters of henry not let's that interesting of baby without lives that vs in at i i little 50 and it is emily like beautiful of impossible first about right previous to childhood each batman in of indian warrior feels and remind and for endearing about adult editing first is and somewhere trouble and fails captain are of adams br placed simply and this keeps it paintings this and to that find but good between lesser blood movie and and sort of fails miserable to picture taped wealthy for and to mainly movie is and better of and and said and agree of and strike he and who of complete death son to wouldn't br younger and front he five if out for from he his much ignored i i by br of america mention br and it of government br and 1984 and and and book they about almost film and to find but so depressing without eating movie would and things of and this about name comparison mainly br and stop don't people have wait film is everyone truly br and rare of late times i'm of match complex if out is dramatic for of using and are harm sexuality my and movie get okay hearing movie shown of along wrong big one moved not sees end of enough for but is and genre and summer and out movie of award he and who of wouldn't br son and of upon to germany he other and who understand br and to and i i of rate effect it and to mouth bad also is demon eating not his is demon on if is dramatic movie and there make understand to real and at paradise movie is road you this of and and that out best and sequel never so forget and seriously\n"
     ]
    }
   ],
   "source": [
    "texts = []\n",
    "for i in x_n:\n",
    "    texts.append(int2Word[i])\n",
    "print(\" \".join(texts))"
   ]
  },
  {
   "cell_type": "code",
   "execution_count": 35,
   "id": "55d6e717",
   "metadata": {},
   "outputs": [
    {
     "data": {
      "text/plain": [
       "\"the anything or lou of and perspective smart stuff or is you for el make human film of its epic and br marry and and and has to best had ambiguous sequel never out is and popular 9 de what of on with is melodramatic br succeeded and at girl buy to and and film is again and and to keeping this is and and and that monsters of henry not let's that interesting of baby without lives that vs in at i i little 50 and it is emily like beautiful of impossible first about right previous to childhood each batman in of indian warrior feels and remind and for endearing about adult editing first is and somewhere trouble and fails captain are of adams br placed simply and this keeps it paintings this and to that find but good between lesser blood movie and and sort of fails miserable to picture taped wealthy for and to mainly movie is and better of and and said and agree of and strike he and who of complete death son to wouldn't br younger and front he five if out for from he his much ignored i i by br of america mention br and it of government br and 1984 and and and book they about almost film and to find but so depressing without eating movie would and things of and this about name comparison mainly br and stop don't people have wait film is everyone truly br and rare of late times i'm of match complex if out is dramatic for of using and are harm sexuality my and movie get okay hearing movie shown of along wrong big one moved not sees end of enough for but is and genre and summer and out movie of award he and who of wouldn't br son and of upon to germany he other and who understand br and to and i i of rate effect it and to mouth bad also is demon eating not his is demon on if is dramatic movie and there make understand to real and at paradise movie is road you this of and and that out best and sequel never so forget and seriously\""
      ]
     },
     "execution_count": 35,
     "metadata": {},
     "output_type": "execute_result"
    }
   ],
   "source": [
    "def mapInt2Word(xi=[]):\n",
    "    texts = []\n",
    "    for i in xi:\n",
    "        texts.append(int2Word[i])\n",
    "    return \" \".join(texts)\n",
    "\n",
    "mapInt2Word(x_n)"
   ]
  },
  {
   "cell_type": "code",
   "execution_count": 36,
   "id": "7365fa27",
   "metadata": {},
   "outputs": [],
   "source": [
    "from tensorflow.keras.preprocessing import sequence"
   ]
  },
  {
   "cell_type": "code",
   "execution_count": 37,
   "id": "ac8f0eab",
   "metadata": {},
   "outputs": [],
   "source": [
    "max_len = 233\n",
    "POST = 'post'\n",
    "PRE = 'pre'"
   ]
  },
  {
   "cell_type": "code",
   "execution_count": 38,
   "id": "c6a8e640",
   "metadata": {},
   "outputs": [],
   "source": [
    "x_train_post = sequence.pad_sequences(x_train, \n",
    "                                     maxlen=max_len,\n",
    "                                     padding = POST,\n",
    "                                     value = 1.0)\n",
    "x_train_pre = sequence.pad_sequences(x_train,\n",
    "                                     maxlen=max_len,\n",
    "                                     padding = PRE,\n",
    "                                     value = 3.14)\n",
    "x_train_def = sequence.pad_sequences(x_train)"
   ]
  },
  {
   "cell_type": "code",
   "execution_count": 39,
   "id": "0e214a7d",
   "metadata": {},
   "outputs": [
    {
     "data": {
      "text/plain": [
       "array([   1,   13,  359,    8,   30, 1202,   13,  296,    5,  358,   14,\n",
       "        123,   88,   12,   16, 2742, 2403,  642,    5,    2, 1243,   50,\n",
       "          9,    6,  176,    7,  486,   18,   32, 5181,   48,   25,   26,\n",
       "         83,    4,  243,    7,  486,   15, 2033,   19,  231,  253,    7,\n",
       "         84, 1454,   39,    2,   18,  463,   95,   25,   80,   28,    6,\n",
       "         87,   58,   18,   12,   10,   10,   42,   48,   25,  358,   84,\n",
       "         23, 1572, 3410, 1729,  170,   78,   25,   80,   82,   28,    6,\n",
       "         87,   58,    5,   48,   25,  358,    2,  486,    5, 1572, 1186,\n",
       "        449,   25,   80,  358,    4,  123,   10,   10,   13,  358,   32,\n",
       "        289, 2572,    7,  486,   15, 1641,    2, 1580,   13,   40,    8,\n",
       "         28,    6,  254,  462,   19,    4, 1186,    7,    4,  123,    2,\n",
       "          9,   40,    6, 1135,   11,    4, 1547, 1079,    8,   14,   31,\n",
       "         38,   48,   25,   26, 1458,    7,    4,  801,  298, 3002,    7,\n",
       "          2,  202,   12,    6,  353,    8,  631, 1572, 3002,   23,   14,\n",
       "        123,   19,   32,  688, 1161,   10,   10,   14,    9,    6,  123,\n",
       "         15,   47,  117, 1296,   42,  707,   45,   24, 1178,   18,  148,\n",
       "         37,   26,  714, 4154,   42,    2,   46,   10,   10,  150,  134,\n",
       "        493,  359,    8,   67,    6, 6870, 4886,    4,    2,  109,    1,\n",
       "          1,    1,    1,    1,    1,    1,    1,    1,    1,    1,    1,\n",
       "          1,    1,    1,    1,    1,    1,    1,    1,    1,    1,    1,\n",
       "          1,    1,    1,    1,    1,    1,    1,    1,    1,    1,    1,\n",
       "          1,    1])"
      ]
     },
     "execution_count": 39,
     "metadata": {},
     "output_type": "execute_result"
    }
   ],
   "source": [
    "x_train_post[i]"
   ]
  },
  {
   "cell_type": "code",
   "execution_count": 40,
   "id": "b5912fb0",
   "metadata": {},
   "outputs": [
    {
     "data": {
      "text/plain": [
       "233"
      ]
     },
     "execution_count": 40,
     "metadata": {},
     "output_type": "execute_result"
    }
   ],
   "source": [
    "len(x_train_post[i])"
   ]
  },
  {
   "cell_type": "code",
   "execution_count": 41,
   "id": "67d1dae3",
   "metadata": {},
   "outputs": [
    {
     "data": {
      "text/plain": [
       "array([   3,    3,    3,    3,    3,    3,    3,    3,    3,    3,    3,\n",
       "          3,    3,    3,    3,    3,    3,    3,    3,    3,    3,    3,\n",
       "          3,    3,    3,    3,    3,    3,    3,    3,    3,    3,    3,\n",
       "          3,    3,    3,    1,   13,  359,    8,   30, 1202,   13,  296,\n",
       "          5,  358,   14,  123,   88,   12,   16, 2742, 2403,  642,    5,\n",
       "          2, 1243,   50,    9,    6,  176,    7,  486,   18,   32, 5181,\n",
       "         48,   25,   26,   83,    4,  243,    7,  486,   15, 2033,   19,\n",
       "        231,  253,    7,   84, 1454,   39,    2,   18,  463,   95,   25,\n",
       "         80,   28,    6,   87,   58,   18,   12,   10,   10,   42,   48,\n",
       "         25,  358,   84,   23, 1572, 3410, 1729,  170,   78,   25,   80,\n",
       "         82,   28,    6,   87,   58,    5,   48,   25,  358,    2,  486,\n",
       "          5, 1572, 1186,  449,   25,   80,  358,    4,  123,   10,   10,\n",
       "         13,  358,   32,  289, 2572,    7,  486,   15, 1641,    2, 1580,\n",
       "         13,   40,    8,   28,    6,  254,  462,   19,    4, 1186,    7,\n",
       "          4,  123,    2,    9,   40,    6, 1135,   11,    4, 1547, 1079,\n",
       "          8,   14,   31,   38,   48,   25,   26, 1458,    7,    4,  801,\n",
       "        298, 3002,    7,    2,  202,   12,    6,  353,    8,  631, 1572,\n",
       "       3002,   23,   14,  123,   19,   32,  688, 1161,   10,   10,   14,\n",
       "          9,    6,  123,   15,   47,  117, 1296,   42,  707,   45,   24,\n",
       "       1178,   18,  148,   37,   26,  714, 4154,   42,    2,   46,   10,\n",
       "         10,  150,  134,  493,  359,    8,   67,    6, 6870, 4886,    4,\n",
       "          2,  109])"
      ]
     },
     "execution_count": 41,
     "metadata": {},
     "output_type": "execute_result"
    }
   ],
   "source": [
    "x_train_pre[i]"
   ]
  },
  {
   "cell_type": "code",
   "execution_count": 42,
   "id": "44a856da",
   "metadata": {},
   "outputs": [
    {
     "data": {
      "text/plain": [
       "array([  0,   0,   0, ...,   4,   2, 109])"
      ]
     },
     "execution_count": 42,
     "metadata": {},
     "output_type": "execute_result"
    }
   ],
   "source": [
    "x_train_def[i]"
   ]
  },
  {
   "cell_type": "code",
   "execution_count": 43,
   "id": "69bb39d9",
   "metadata": {},
   "outputs": [
    {
     "data": {
      "text/plain": [
       "array([0, 0, 0, 0, 0, 0, 0, 0, 0, 0, 0, 0, 0, 0, 0, 0, 0, 0, 0, 0, 0, 0,\n",
       "       0, 0, 0, 0, 0, 0, 0, 0, 0, 0, 0, 0, 0, 0, 0, 0, 0, 0, 0, 0, 0, 0,\n",
       "       0, 0, 0, 0, 0, 0, 0, 0, 0, 0, 0, 0, 0, 0, 0, 0, 0, 0, 0, 0, 0, 0,\n",
       "       0, 0, 0, 0, 0, 0, 0, 0, 0, 0, 0, 0, 0, 0, 0, 0, 0, 0, 0, 0, 0, 0,\n",
       "       0, 0, 0, 0, 0, 0, 0, 0, 0, 0, 0, 0, 0, 0, 0, 0, 0, 0, 0, 0, 0, 0,\n",
       "       0, 0, 0, 0, 0, 0, 0, 0, 0, 0, 0, 0, 0, 0, 0, 0, 0, 0, 0, 0, 0, 0,\n",
       "       0, 0, 0, 0, 0, 0, 0, 0, 0, 0, 0, 0, 0, 0, 0, 0, 0, 0, 0, 0, 0, 0,\n",
       "       0, 0, 0, 0, 0, 0, 0, 0, 0, 0, 0, 0, 0, 0, 0, 0, 0, 0, 0, 0, 0, 0,\n",
       "       0, 0, 0, 0, 0, 0, 0, 0, 0, 0, 0, 0, 0, 0, 0, 0, 0, 0, 0, 0, 0, 0,\n",
       "       0, 0, 0, 0, 0, 0, 0, 0, 0, 0, 0, 0, 0, 0, 0, 0, 0, 0, 0, 0, 0, 0,\n",
       "       0, 0, 0, 0, 0, 0, 0, 0, 0, 0, 0, 0, 0])"
      ]
     },
     "execution_count": 43,
     "metadata": {},
     "output_type": "execute_result"
    }
   ],
   "source": [
    "x_train_def[i][:max_len]"
   ]
  },
  {
   "cell_type": "code",
   "execution_count": 44,
   "id": "0cf89ca2",
   "metadata": {},
   "outputs": [],
   "source": [
    "x_train = sequence.pad_sequences(x_train,\n",
    "                                 maxlen=max_len,\n",
    "                                 padding = POST)\n",
    "x_test = sequence.pad_sequences(x_test, \n",
    "                                maxlen=max_len,\n",
    "                                padding = POST)"
   ]
  },
  {
   "cell_type": "code",
   "execution_count": 45,
   "id": "12a46aa2",
   "metadata": {},
   "outputs": [
    {
     "data": {
      "text/plain": [
       "(25000, 233)"
      ]
     },
     "execution_count": 45,
     "metadata": {},
     "output_type": "execute_result"
    }
   ],
   "source": [
    "x_train.shape"
   ]
  },
  {
   "cell_type": "code",
   "execution_count": 46,
   "id": "880de1c3",
   "metadata": {},
   "outputs": [
    {
     "data": {
      "text/plain": [
       "array([   1,   13,  359,    8,   30, 1202,   13,  296,    5,  358,   14,\n",
       "        123,   88,   12,   16, 2742, 2403,  642,    5,    2, 1243,   50,\n",
       "          9,    6,  176,    7,  486,   18,   32, 5181,   48,   25,   26,\n",
       "         83,    4,  243,    7,  486,   15, 2033,   19,  231,  253,    7,\n",
       "         84, 1454,   39,    2,   18,  463,   95,   25,   80,   28,    6,\n",
       "         87,   58,   18,   12,   10,   10,   42,   48,   25,  358,   84,\n",
       "         23, 1572, 3410, 1729,  170,   78,   25,   80,   82,   28,    6,\n",
       "         87,   58,    5,   48,   25,  358,    2,  486,    5, 1572, 1186,\n",
       "        449,   25,   80,  358,    4,  123,   10,   10,   13,  358,   32,\n",
       "        289, 2572,    7,  486,   15, 1641,    2, 1580,   13,   40,    8,\n",
       "         28,    6,  254,  462,   19,    4, 1186,    7,    4,  123,    2,\n",
       "          9,   40,    6, 1135,   11,    4, 1547, 1079,    8,   14,   31,\n",
       "         38,   48,   25,   26, 1458,    7,    4,  801,  298, 3002,    7,\n",
       "          2,  202,   12,    6,  353,    8,  631, 1572, 3002,   23,   14,\n",
       "        123,   19,   32,  688, 1161,   10,   10,   14,    9,    6,  123,\n",
       "         15,   47,  117, 1296,   42,  707,   45,   24, 1178,   18,  148,\n",
       "         37,   26,  714, 4154,   42,    2,   46,   10,   10,  150,  134,\n",
       "        493,  359,    8,   67,    6, 6870, 4886,    4,    2,  109,    0,\n",
       "          0,    0,    0,    0,    0,    0,    0,    0,    0,    0,    0,\n",
       "          0,    0,    0,    0,    0,    0,    0,    0,    0,    0,    0,\n",
       "          0,    0,    0,    0,    0,    0,    0,    0,    0,    0,    0,\n",
       "          0,    0])"
      ]
     },
     "execution_count": 46,
     "metadata": {},
     "output_type": "execute_result"
    }
   ],
   "source": [
    "x_train[i]"
   ]
  },
  {
   "cell_type": "code",
   "execution_count": 49,
   "id": "516a96dd",
   "metadata": {},
   "outputs": [],
   "source": [
    "from tensorflow.keras.layers import Dense, Embedding\n",
    "from tensorflow.keras.layers import LSTM\n",
    "model = Sequential()\n",
    "model.add(Embedding(7000, 128))\n",
    "model.add(LSTM(150))\n",
    "model.add(Dense(1, activation='sigmoid'))"
   ]
  },
  {
   "cell_type": "code",
   "execution_count": 50,
   "id": "c0a22333",
   "metadata": {},
   "outputs": [
    {
     "name": "stdout",
     "output_type": "stream",
     "text": [
      "Model: \"sequential_4\"\n",
      "_________________________________________________________________\n",
      " Layer (type)                Output Shape              Param #   \n",
      "=================================================================\n",
      " embedding_1 (Embedding)     (None, None, 128)         896000    \n",
      "                                                                 \n",
      " lstm (LSTM)                 (None, 150)               167400    \n",
      "                                                                 \n",
      " dense (Dense)               (None, 1)                 151       \n",
      "                                                                 \n",
      "=================================================================\n",
      "Total params: 1,063,551\n",
      "Trainable params: 1,063,551\n",
      "Non-trainable params: 0\n",
      "_________________________________________________________________\n"
     ]
    }
   ],
   "source": [
    "model.summary()"
   ]
  },
  {
   "cell_type": "code",
   "execution_count": 51,
   "id": "a0c38f32",
   "metadata": {},
   "outputs": [],
   "source": [
    "model.compile(loss='binary_crossentropy',\n",
    "            optimizer='adam',\n",
    "            metrics=['accuracy'])"
   ]
  },
  {
   "cell_type": "code",
   "execution_count": 52,
   "id": "6a49b676",
   "metadata": {},
   "outputs": [
    {
     "name": "stdout",
     "output_type": "stream",
     "text": [
      "Epoch 1/5\n",
      "782/782 [==============================] - 154s 195ms/step - loss: 0.6553 - accuracy: 0.5753\n",
      "Epoch 2/5\n",
      "782/782 [==============================] - 151s 193ms/step - loss: 0.5391 - accuracy: 0.7202\n",
      "Epoch 3/5\n",
      "782/782 [==============================] - 154s 197ms/step - loss: 0.5532 - accuracy: 0.6986\n",
      "Epoch 4/5\n",
      "782/782 [==============================] - 148s 189ms/step - loss: 0.4315 - accuracy: 0.8153\n",
      "Epoch 5/5\n",
      "782/782 [==============================] - 147s 188ms/step - loss: 0.2798 - accuracy: 0.8923\n"
     ]
    },
    {
     "data": {
      "text/plain": [
       "<keras.callbacks.History at 0x2a6c95201f0>"
      ]
     },
     "execution_count": 52,
     "metadata": {},
     "output_type": "execute_result"
    }
   ],
   "source": [
    "model.fit(x_train, y_train,\n",
    "         batch_size=32,\n",
    "         epochs=5)"
   ]
  },
  {
   "cell_type": "code",
   "execution_count": 53,
   "id": "0f01aaa0",
   "metadata": {},
   "outputs": [
    {
     "name": "stdout",
     "output_type": "stream",
     "text": [
      "782/782 [==============================] - 44s 56ms/step - loss: 0.3219 - accuracy: 0.8730\n"
     ]
    }
   ],
   "source": [
    "score = model.evaluate(x_test, y_test)"
   ]
  },
  {
   "cell_type": "code",
   "execution_count": 54,
   "id": "e8e8558a",
   "metadata": {},
   "outputs": [
    {
     "name": "stdout",
     "output_type": "stream",
     "text": [
      "測試資料的 loss 0.3219415247440338\n",
      "測試資料的正確率 0.8729599714279175\n"
     ]
    }
   ],
   "source": [
    "print('測試資料的 loss', score[0])\n",
    "print('測試資料的正確率', score[1])"
   ]
  },
  {
   "cell_type": "code",
   "execution_count": 55,
   "id": "f550fdee",
   "metadata": {},
   "outputs": [
    {
     "name": "stdout",
     "output_type": "stream",
     "text": [
      "1/1 [==============================] - 1s 683ms/step\n"
     ]
    },
    {
     "data": {
      "text/plain": [
       "array([[0.01789268]], dtype=float32)"
      ]
     },
     "execution_count": 55,
     "metadata": {},
     "output_type": "execute_result"
    }
   ],
   "source": [
    "model.predict(np.array([x_n]))"
   ]
  },
  {
   "cell_type": "code",
   "execution_count": 56,
   "id": "5c575358",
   "metadata": {},
   "outputs": [
    {
     "data": {
      "text/plain": [
       "1"
      ]
     },
     "execution_count": 56,
     "metadata": {},
     "output_type": "execute_result"
    }
   ],
   "source": [
    "y_train[i]"
   ]
  },
  {
   "cell_type": "markdown",
   "id": "5d0792d8",
   "metadata": {},
   "source": [
    "### HW5\n",
    "Calculating the BLEU score<p>\n",
    "Reference: The NASA Opportunity rover is battling a massive dust storm\n",
    "on Mars.<br>\n",
    "Candidate 1: The Opportunity rover is combating a big sandstorm on\n",
    "Mars.<br>\n",
    "Candidate 2: A NASA rover is fighting a massive storm on Mars.\n"
   ]
  },
  {
   "cell_type": "code",
   "execution_count": 57,
   "id": "c14c75d7",
   "metadata": {},
   "outputs": [],
   "source": [
    "ref_text = 'The NASA Opportunity rover is battling a massive dust storm on Mars.'\n",
    "cand_text1 = 'The Opportunity rover is combating a big sandstorm on Mars.'\n",
    "cand_text2 = 'A NASA rover is fighting a massive storm on Mars.'"
   ]
  },
  {
   "cell_type": "code",
   "execution_count": 59,
   "id": "68b0345d",
   "metadata": {},
   "outputs": [
    {
     "data": {
      "text/plain": [
       "['a', 'nasa', 'rover', 'is', 'fighting', 'a', 'massive', 'storm', 'on', 'mars']"
      ]
     },
     "execution_count": 59,
     "metadata": {},
     "output_type": "execute_result"
    }
   ],
   "source": [
    "def n_gram_v0(n=1, texts=''):\n",
    "    texts = texts.replace('.', '')\n",
    "    texts = texts.lower()\n",
    "\n",
    "    words = texts.split(' ')\n",
    "\n",
    "    n_split = []\n",
    "    texts_len = len(words)\n",
    "\n",
    "    if n > texts_len:\n",
    "        return []\n",
    "\n",
    "    for i in range(texts_len):\n",
    "        if i+n > texts_len:\n",
    "            break\n",
    "        n_split.append(' '.join(words[i:i+n]))\n",
    "\n",
    "    return n_split\n",
    "\n",
    "n_gram_v0(n=1, texts = cand_text2)"
   ]
  },
  {
   "cell_type": "code",
   "execution_count": 60,
   "id": "04cda658",
   "metadata": {},
   "outputs": [
    {
     "data": {
      "text/plain": [
       "{'a', 'fighting', 'is', 'mars', 'massive', 'nasa', 'on', 'rover', 'storm'}"
      ]
     },
     "execution_count": 60,
     "metadata": {},
     "output_type": "execute_result"
    }
   ],
   "source": [
    "def n_gram_v1(n=1, texts=''):\n",
    "    texts = texts.replace('.', '')\n",
    "    texts = texts.lower()\n",
    "\n",
    "    words = texts.split(' ')\n",
    "\n",
    "    n_split = []\n",
    "    texts_len = len(words)\n",
    "\n",
    "    if n > texts_len:\n",
    "        return []\n",
    "\n",
    "    for i in range(texts_len):\n",
    "        if i+n > texts_len:\n",
    "            break\n",
    "        n_split.append(' '.join(words[i:i+n]))\n",
    "\n",
    "    return set(n_split)\n",
    "\n",
    "n_gram_v1(n=1, texts = cand_text2)"
   ]
  },
  {
   "cell_type": "code",
   "execution_count": 61,
   "id": "85639f12",
   "metadata": {},
   "outputs": [
    {
     "data": {
      "text/plain": [
       "{'on': 1,\n",
       " 'a': 2,\n",
       " 'nasa': 1,\n",
       " 'massive': 1,\n",
       " 'storm': 1,\n",
       " 'fighting': 1,\n",
       " 'mars': 1,\n",
       " 'is': 1,\n",
       " 'rover': 1}"
      ]
     },
     "execution_count": 61,
     "metadata": {},
     "output_type": "execute_result"
    }
   ],
   "source": [
    "def n_gram_v2(n=1, texts='') -> dict:\n",
    "    texts = texts.replace('.', '')\n",
    "    texts = texts.lower()\n",
    "\n",
    "    words = texts.split(' ')\n",
    "\n",
    "    n_split = []\n",
    "    texts_len = len(words)\n",
    "\n",
    "    if n > texts_len:\n",
    "        return []\n",
    "\n",
    "    for i in range(texts_len):\n",
    "        if i+n > texts_len:\n",
    "            break\n",
    "        n_split.append(' '.join(words[i:i+n]))\n",
    "\n",
    "    n_gram_list = list(set(n_split))\n",
    "    wrod_count = []\n",
    "    for word in n_gram_list:\n",
    "        wrod_count.append(n_split.count(word))\n",
    "\n",
    "\n",
    "    return dict(zip(n_gram_list, wrod_count))\n",
    "\n",
    "n_gram_v2(n=1, texts = cand_text2)"
   ]
  },
  {
   "cell_type": "code",
   "execution_count": 62,
   "id": "6a8bdc4a",
   "metadata": {},
   "outputs": [
    {
     "data": {
      "text/plain": [
       "dict_keys(['on', 'a', 'nasa', 'massive', 'storm', 'fighting', 'mars', 'is', 'rover'])"
      ]
     },
     "execution_count": 62,
     "metadata": {},
     "output_type": "execute_result"
    }
   ],
   "source": [
    "gramDict = n_gram_v2(n=1, texts = cand_text2)\n",
    "gramDict.keys()"
   ]
  },
  {
   "cell_type": "code",
   "execution_count": 63,
   "id": "e323452e",
   "metadata": {},
   "outputs": [
    {
     "data": {
      "text/plain": [
       "dict_values([1, 2, 1, 1, 1, 1, 1, 1, 1])"
      ]
     },
     "execution_count": 63,
     "metadata": {},
     "output_type": "execute_result"
    }
   ],
   "source": [
    "gramDict.values()"
   ]
  },
  {
   "cell_type": "code",
   "execution_count": 66,
   "id": "e9c9f81b",
   "metadata": {},
   "outputs": [
    {
     "data": {
      "text/plain": [
       "12"
      ]
     },
     "execution_count": 66,
     "metadata": {},
     "output_type": "execute_result"
    }
   ],
   "source": [
    "refDic = n_gram_v2(1, ref_text)\n",
    "rl = sum(refDic.values())\n",
    "rl"
   ]
  },
  {
   "cell_type": "code",
   "execution_count": 67,
   "id": "2acc1f56",
   "metadata": {},
   "outputs": [
    {
     "data": {
      "text/plain": [
       "10"
      ]
     },
     "execution_count": 67,
     "metadata": {},
     "output_type": "execute_result"
    }
   ],
   "source": [
    "candDic = n_gram_v2(1, cand_text1)\n",
    "ol = sum(candDic.values())\n",
    "ol"
   ]
  },
  {
   "cell_type": "code",
   "execution_count": 68,
   "id": "9a1ddb82",
   "metadata": {},
   "outputs": [
    {
     "data": {
      "text/plain": [
       "0.8187307530779819"
      ]
     },
     "execution_count": 68,
     "metadata": {},
     "output_type": "execute_result"
    }
   ],
   "source": [
    "def BP(rl, ol):\n",
    "    return min(1, np.exp(1-(rl/ol)))\n",
    "\n",
    "BP(12, 10)"
   ]
  },
  {
   "cell_type": "code",
   "execution_count": 69,
   "id": "5bc4b13b",
   "metadata": {},
   "outputs": [
    {
     "data": {
      "text/plain": [
       "0.8187307530779819"
      ]
     },
     "execution_count": 69,
     "metadata": {},
     "output_type": "execute_result"
    }
   ],
   "source": [
    "bp1 = BP(rl, ol)\n",
    "bp1"
   ]
  },
  {
   "cell_type": "code",
   "execution_count": 70,
   "id": "5e3451c3",
   "metadata": {},
   "outputs": [
    {
     "data": {
      "text/plain": [
       "({'a': 2,\n",
       "  'nasa': 1,\n",
       "  'rover': 1,\n",
       "  'is': 1,\n",
       "  'fighting': 1,\n",
       "  'massive': 1,\n",
       "  'storm': 1,\n",
       "  'on': 1,\n",
       "  'mars': 1},\n",
       " ['a', 'nasa', 'rover', 'is', 'fighting', 'massive', 'storm', 'on', 'mars'])"
      ]
     },
     "execution_count": 70,
     "metadata": {},
     "output_type": "execute_result"
    }
   ],
   "source": [
    "def n_gram_v3(n=1, texts='') -> (dict, list):\n",
    "    texts = texts.replace('.', '')\n",
    "    texts = texts.lower()\n",
    "\n",
    "    words = texts.split(' ')\n",
    "\n",
    "    n_split = []\n",
    "    texts_len = len(words)\n",
    "\n",
    "    if n > texts_len:\n",
    "        return []\n",
    "\n",
    "    for i in range(texts_len):\n",
    "        if i+n > texts_len:\n",
    "            break\n",
    "        n_split.append(' '.join(words[i:i+n]))\n",
    "\n",
    "    n_gram_seq_list = []\n",
    "\n",
    "    for n_gram in n_split:\n",
    "        if n_gram not in n_gram_seq_list:\n",
    "            n_gram_seq_list.append(n_gram)\n",
    "\n",
    "    n_gram_count = []\n",
    "    for n_gram in n_gram_seq_list:\n",
    "        n_gram_count.append(n_split.count(n_gram))\n",
    "\n",
    "\n",
    "    return dict(zip(n_gram_seq_list, n_gram_count)), n_gram_seq_list\n",
    "\n",
    "n_gram_v3(n=1, texts = cand_text2)"
   ]
  },
  {
   "cell_type": "code",
   "execution_count": 71,
   "id": "6f5ac37d",
   "metadata": {},
   "outputs": [],
   "source": [
    "(refDic1, refWords1) = n_gram_v3(1, ref_text)"
   ]
  },
  {
   "cell_type": "code",
   "execution_count": 72,
   "id": "f73a7728",
   "metadata": {},
   "outputs": [
    {
     "data": {
      "text/plain": [
       "{'the': 1,\n",
       " 'nasa': 1,\n",
       " 'opportunity': 1,\n",
       " 'rover': 1,\n",
       " 'is': 1,\n",
       " 'battling': 1,\n",
       " 'a': 1,\n",
       " 'massive': 1,\n",
       " 'dust': 1,\n",
       " 'storm': 1,\n",
       " 'on': 1,\n",
       " 'mars': 1}"
      ]
     },
     "execution_count": 72,
     "metadata": {},
     "output_type": "execute_result"
    }
   ],
   "source": [
    "refDic1"
   ]
  },
  {
   "cell_type": "code",
   "execution_count": 73,
   "id": "c3de91a2",
   "metadata": {},
   "outputs": [],
   "source": [
    "def printListOneRow(wordList=[]):\n",
    "    for i in wordList:\n",
    "        print(i, end = ', ')"
   ]
  },
  {
   "cell_type": "code",
   "execution_count": 74,
   "id": "c9ff4c4f",
   "metadata": {},
   "outputs": [
    {
     "name": "stdout",
     "output_type": "stream",
     "text": [
      "the, nasa, opportunity, rover, is, battling, a, massive, dust, storm, on, mars, "
     ]
    }
   ],
   "source": [
    "printListOneRow(refWords1)"
   ]
  },
  {
   "cell_type": "code",
   "execution_count": 75,
   "id": "e61e28bc",
   "metadata": {},
   "outputs": [],
   "source": [
    "(candDic1, candWords1) = n_gram_v3(1, cand_text1)"
   ]
  },
  {
   "cell_type": "code",
   "execution_count": 76,
   "id": "efd190f5",
   "metadata": {},
   "outputs": [
    {
     "name": "stdout",
     "output_type": "stream",
     "text": [
      "the, opportunity, rover, is, combating, a, big, sandstorm, on, mars, "
     ]
    }
   ],
   "source": [
    "printListOneRow(candWords1)"
   ]
  },
  {
   "cell_type": "code",
   "execution_count": 77,
   "id": "e829549b",
   "metadata": {},
   "outputs": [],
   "source": [
    "def cal_mCand_and_min(refDic = dict(), candDic=dict(), refWords = [], candWords=[]) -> list:\n",
    "    m_cand_list = []\n",
    "    for n_gram in refWords:\n",
    "        m_cand = 0\n",
    "        if n_gram in candWords:\n",
    "            m_cand = candDic[n_gram]\n",
    "\n",
    "        m_cand_list.append(m_cand)\n",
    "\n",
    "    min_list = []\n",
    "    for ind, key in enumerate(refWords):\n",
    "        min_list.append(min(m_cand_list[ind], refDic[key]))\n",
    "\n",
    "    \n",
    "    return list(zip(refWords, m_cand_list, min_list))"
   ]
  },
  {
   "cell_type": "code",
   "execution_count": 78,
   "id": "0df667f5",
   "metadata": {},
   "outputs": [
    {
     "name": "stdout",
     "output_type": "stream",
     "text": [
      "n-gram, m_cand, min\n"
     ]
    },
    {
     "data": {
      "text/plain": [
       "[('the', 1, 1),\n",
       " ('nasa', 0, 0),\n",
       " ('opportunity', 1, 1),\n",
       " ('rover', 1, 1),\n",
       " ('is', 1, 1),\n",
       " ('battling', 0, 0),\n",
       " ('a', 1, 1),\n",
       " ('massive', 0, 0),\n",
       " ('dust', 0, 0),\n",
       " ('storm', 0, 0),\n",
       " ('on', 1, 1),\n",
       " ('mars', 1, 1)]"
      ]
     },
     "execution_count": 78,
     "metadata": {},
     "output_type": "execute_result"
    }
   ],
   "source": [
    "m1_info = cal_mCand_and_min(refDic1, candDic1, refWords1, candWords1)\n",
    "print( f'n-gram, m_cand, min')\n",
    "m1_info"
   ]
  },
  {
   "cell_type": "code",
   "execution_count": 79,
   "id": "eb5f37ca",
   "metadata": {},
   "outputs": [
    {
     "data": {
      "text/plain": [
       "12"
      ]
     },
     "execution_count": 79,
     "metadata": {},
     "output_type": "execute_result"
    }
   ],
   "source": [
    "w_t1 = len(refWords1)\n",
    "w_t1"
   ]
  },
  {
   "cell_type": "code",
   "execution_count": 80,
   "id": "49b3e5fb",
   "metadata": {},
   "outputs": [
    {
     "data": {
      "text/plain": [
       "0.5833333333333334"
      ]
     },
     "execution_count": 80,
     "metadata": {},
     "output_type": "execute_result"
    }
   ],
   "source": [
    "sum = 0\n",
    "for t in m1_info:\n",
    "    sum += t[2]\n",
    "p1 = sum/w_t1\n",
    "p1"
   ]
  },
  {
   "cell_type": "code",
   "execution_count": 81,
   "id": "122b0564",
   "metadata": {},
   "outputs": [
    {
     "data": {
      "text/plain": [
       "0.5833333333333334"
      ]
     },
     "execution_count": 81,
     "metadata": {},
     "output_type": "execute_result"
    }
   ],
   "source": [
    "def cal_pi(refWolds = [], m_info=[]) -> float:\n",
    "    wt_i = len(refWolds)\n",
    "\n",
    "    sum = 0\n",
    "    for t in m_info:\n",
    "        sum += t[2]\n",
    "    pi = sum/wt_i\n",
    "    return pi\n",
    "\n",
    "p1 = cal_pi(refWords1, m1_info)\n",
    "p1"
   ]
  },
  {
   "cell_type": "code",
   "execution_count": 84,
   "id": "e563fe79",
   "metadata": {},
   "outputs": [],
   "source": [
    "refDic2, refWords2 = n_gram_v3(2, ref_text)"
   ]
  },
  {
   "cell_type": "code",
   "execution_count": 85,
   "id": "2fb60a92",
   "metadata": {},
   "outputs": [],
   "source": [
    "candDic2 , candWords2 = n_gram_v3(2, cand_text1)"
   ]
  },
  {
   "cell_type": "code",
   "execution_count": 86,
   "id": "bd3a9edc",
   "metadata": {},
   "outputs": [],
   "source": [
    "m2_info = cal_mCand_and_min(refDic2, candDic2, refWords2)"
   ]
  },
  {
   "cell_type": "code",
   "execution_count": 87,
   "id": "8be0fcfe",
   "metadata": {},
   "outputs": [
    {
     "data": {
      "text/plain": [
       "0.0"
      ]
     },
     "execution_count": 87,
     "metadata": {},
     "output_type": "execute_result"
    }
   ],
   "source": [
    "p2 = cal_pi(refWords2, m2_info)\n",
    "p2"
   ]
  },
  {
   "cell_type": "code",
   "execution_count": 88,
   "id": "cf7489dc",
   "metadata": {},
   "outputs": [
    {
     "data": {
      "text/plain": [
       "[('the nasa', 0, 0),\n",
       " ('nasa opportunity', 0, 0),\n",
       " ('opportunity rover', 0, 0),\n",
       " ('rover is', 0, 0),\n",
       " ('is battling', 0, 0),\n",
       " ('battling a', 0, 0),\n",
       " ('a massive', 0, 0),\n",
       " ('massive dust', 0, 0),\n",
       " ('dust storm', 0, 0),\n",
       " ('storm on', 0, 0),\n",
       " ('on mars', 0, 0)]"
      ]
     },
     "execution_count": 88,
     "metadata": {},
     "output_type": "execute_result"
    }
   ],
   "source": [
    "m2_info"
   ]
  },
  {
   "cell_type": "code",
   "execution_count": 89,
   "id": "9b4fe262",
   "metadata": {},
   "outputs": [
    {
     "data": {
      "text/plain": [
       "0.0"
      ]
     },
     "execution_count": 89,
     "metadata": {},
     "output_type": "execute_result"
    }
   ],
   "source": [
    "def cal_pi_with(i=1, ref_text='', cand_text='')->float:\n",
    "    refDic, refWords = n_gram_v3(n=i, texts=ref_text)\n",
    "    candDic, candWords = n_gram_v3(n=i, texts=cand_text)\n",
    "    m_info = cal_mCand_and_min(refDic, candDic, refWords)\n",
    "    pi = cal_pi(refWords, m_info)\n",
    "    return pi\n",
    "\n",
    "cal_pi_with(i=1, ref_text=ref_text, cand_text=cand_text1)"
   ]
  },
  {
   "cell_type": "code",
   "execution_count": 91,
   "id": "3a9fb4aa",
   "metadata": {},
   "outputs": [
    {
     "data": {
      "text/plain": [
       "({'a': 2,\n",
       "  'nasa': 1,\n",
       "  'rover': 1,\n",
       "  'is': 1,\n",
       "  'fighting': 1,\n",
       "  'massive': 1,\n",
       "  'storm': 1,\n",
       "  'on': 1,\n",
       "  'mars': 1},\n",
       " ['a', 'nasa', 'rover', 'is', 'fighting', 'massive', 'storm', 'on', 'mars'])"
      ]
     },
     "execution_count": 91,
     "metadata": {},
     "output_type": "execute_result"
    }
   ],
   "source": [
    "def n_gram_v4(n=1, texts='') -> (dict, list):\n",
    "    texts = texts.replace('.', '')\n",
    "    texts = texts.lower()\n",
    "\n",
    "    words = texts.split(' ')\n",
    "\n",
    "    n_split = []\n",
    "    texts_len = len(words)\n",
    "\n",
    "    if n > texts_len:\n",
    "        return []\n",
    "\n",
    "    for i in range(texts_len):\n",
    "        if i+n > texts_len:\n",
    "            break\n",
    "        n_split.append(' '.join(words[i:i+n]))\n",
    "\n",
    "    n_gram_seq_list = []\n",
    "\n",
    "    for n_gram in n_split:\n",
    "        if n_gram not in n_gram_seq_list:\n",
    "            n_gram_seq_list.append(n_gram)\n",
    "\n",
    "    n_gram_count = []\n",
    "    for n_gram in n_gram_seq_list:\n",
    "        n_gram_count.append(n_split.count(n_gram))\n",
    "\n",
    "\n",
    "    return dict(zip(n_gram_seq_list, n_gram_count)), n_gram_seq_list\n",
    "\n",
    "n_gram_v3(n=1, texts = cand_text2)\n"
   ]
  },
  {
   "cell_type": "code",
   "execution_count": null,
   "id": "7d79a3f5",
   "metadata": {},
   "outputs": [],
   "source": []
  }
 ],
 "metadata": {
  "kernelspec": {
   "display_name": "Python 3",
   "language": "python",
   "name": "python3"
  },
  "language_info": {
   "codemirror_mode": {
    "name": "ipython",
    "version": 3
   },
   "file_extension": ".py",
   "mimetype": "text/x-python",
   "name": "python",
   "nbconvert_exporter": "python",
   "pygments_lexer": "ipython3",
   "version": "3.8.8"
  },
  "varInspector": {
   "cols": {
    "lenName": 16,
    "lenType": 16,
    "lenVar": 40
   },
   "kernels_config": {
    "python": {
     "delete_cmd_postfix": "",
     "delete_cmd_prefix": "del ",
     "library": "var_list.py",
     "varRefreshCmd": "print(var_dic_list())"
    },
    "r": {
     "delete_cmd_postfix": ") ",
     "delete_cmd_prefix": "rm(",
     "library": "var_list.r",
     "varRefreshCmd": "cat(var_dic_list()) "
    }
   },
   "types_to_exclude": [
    "module",
    "function",
    "builtin_function_or_method",
    "instance",
    "_Feature"
   ],
   "window_display": false
  }
 },
 "nbformat": 4,
 "nbformat_minor": 5
}
