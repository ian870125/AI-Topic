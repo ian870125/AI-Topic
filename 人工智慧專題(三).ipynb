{
 "cells": [
  {
   "cell_type": "markdown",
   "id": "11ab5ad9",
   "metadata": {},
   "source": [
    "# 上課練習 Unit1 並與jieba 比較"
   ]
  },
  {
   "cell_type": "code",
   "execution_count": 13,
   "id": "7c60799d",
   "metadata": {
    "ExecuteTime": {
     "end_time": "2022-12-25T04:11:15.903184Z",
     "start_time": "2022-12-25T04:11:15.870293Z"
    }
   },
   "outputs": [],
   "source": [
    "from ArticutAPI import Articut\n",
    "from pprint import pprint\n",
    "import jieba"
   ]
  },
  {
   "cell_type": "code",
   "execution_count": 11,
   "id": "872993ca",
   "metadata": {
    "ExecuteTime": {
     "end_time": "2022-12-25T04:10:19.854567Z",
     "start_time": "2022-12-25T04:10:18.598921Z"
    }
   },
   "outputs": [
    {
     "name": "stdout",
     "output_type": "stream",
     "text": [
      "{'exec_time': 0.15618133544921875,\n",
      " 'level': 'lv2',\n",
      " 'msg': 'Success!',\n",
      " 'result_obj': [[{'pos': 'MODAL', 'text': '會'},\n",
      "                 {'pos': 'ACTION_lightVerb', 'text': '被'},\n",
      "                 {'pos': 'ENTITY_noun', 'text': '大家'},\n",
      "                 {'pos': 'ENTITY_nounHead', 'text': '盯'},\n",
      "                 {'pos': 'RANGE_locality', 'text': '上'}],\n",
      "                [{'pos': 'PUNCTUATION', 'text': '，'}],\n",
      "                [{'pos': 'MODAL', 'text': '才'},\n",
      "                 {'pos': 'ACTION_verb', 'text': '證明'},\n",
      "                 {'pos': 'ENTITY_pronoun', 'text': '你'},\n",
      "                 {'pos': 'ACTION_verb', 'text': '有'},\n",
      "                 {'pos': 'ENTITY_noun', 'text': '實力'}]],\n",
      " 'result_pos': ['<MODAL>會</MODAL><ACTION_lightVerb>被</ACTION_lightVerb><ENTITY_noun>大家</ENTITY_noun><ENTITY_nounHead>盯</ENTITY_nounHead><RANGE_locality>上</RANGE_locality>',\n",
      "                '，',\n",
      "                '<MODAL>才</MODAL><ACTION_verb>證明</ACTION_verb><ENTITY_pronoun>你</ENTITY_pronoun><ACTION_verb>有</ACTION_verb><ENTITY_noun>實力</ENTITY_noun>'],\n",
      " 'result_segmentation': '會/被/大家/盯/上/，/才/證明/你/有/實力',\n",
      " 'status': True,\n",
      " 'version': 'v260',\n",
      " 'word_count_balance': 209}\n"
     ]
    }
   ],
   "source": [
    "username = 'peter.w@droidtown.co'\n",
    "articut_key = 'Jp$Jnnh1KCGEmHvzJ3wmiCXoA4nraNp'\n",
    "articut = Articut(username, articut_key)\n",
    "inputSTR = \"會被大家盯上，才證明你有實力\"\n",
    "resultDICT = articut.parse(inputSTR)\n",
    "pprint(resultDICT) "
   ]
  },
  {
   "cell_type": "code",
   "execution_count": 28,
   "id": "cbc1d69f",
   "metadata": {
    "ExecuteTime": {
     "end_time": "2022-12-25T04:23:45.597682Z",
     "start_time": "2022-12-25T04:23:44.337515Z"
    }
   },
   "outputs": [
    {
     "name": "stderr",
     "output_type": "stream",
     "text": [
      "Building prefix dict from C:\\Users\\ian\\anaconda3\\Lib\\site-packages\\jieba\\dict.txt.big.txt ...\n",
      "Loading model from cache C:\\Users\\ian\\AppData\\Local\\Temp\\jieba.ua56f00cf5f06bf4205b2be2d5686baf0.cache\n",
      "Loading model cost 1.250 seconds.\n",
      "Prefix dict has been built successfully.\n"
     ]
    },
    {
     "name": "stdout",
     "output_type": "stream",
     "text": [
      "會/被/大家/盯上/，/才/證明/你/有/實力\n",
      "會/被/大家/盯上/，/才/證明/你/有/實力\n"
     ]
    }
   ],
   "source": [
    "jieba.set_dictionary(r'C:\\Users\\ian\\anaconda3\\Lib\\site-packages\\jieba\\dict.txt.big.txt')\n",
    "print('/'.join(jieba.cut(inputSTR, cut_all=False)))\n",
    "print('/'.join(jieba.cut(inputSTR, use_paddle=True, cut_all=False)))\n"
   ]
  },
  {
   "cell_type": "code",
   "execution_count": 4,
   "id": "a65b61dc",
   "metadata": {
    "ExecuteTime": {
     "end_time": "2022-12-25T03:19:55.372815Z",
     "start_time": "2022-12-25T03:19:53.921279Z"
    }
   },
   "outputs": [
    {
     "name": "stdout",
     "output_type": "stream",
     "text": [
      "\n",
      " lv1 的設定下，處理結果：\n",
      " {'exec_time': 0.06643390655517578, 'result_segmentation': '小/紅/帽', 'result_pos': ['<MODIFIER>小</MODIFIER><MODIFIER_color>紅</MODIFIER_color><ENTITY_nounHead>帽</ENTITY_nounHead>'], 'result_obj': [[{'text': '小', 'pos': 'MODIFIER'}, {'text': '紅', 'pos': 'MODIFIER_color'}, {'text': '帽', 'pos': 'ENTITY_nounHead'}]], 'level': 'lv1', 'version': 'v260', 'status': True, 'msg': 'Success!', 'word_count_balance': 209}\n",
      "\n",
      " lv2 的設定下，處理結果：\n",
      " {'exec_time': 0.07615828514099121, 'result_segmentation': '小紅帽', 'result_pos': ['<ENTITY_nouny>小紅帽</ENTITY_nouny>'], 'result_obj': [[{'text': '小紅帽', 'pos': 'ENTITY_nouny'}]], 'level': 'lv2', 'version': 'v260', 'status': True, 'msg': 'Success!', 'word_count_balance': 209}\n"
     ]
    }
   ],
   "source": [
    "inputSTR = \"小紅帽\"\n",
    "resultDICT = articut.parse(inputSTR, level=\"lv1\") #注意 level 參數設定為 \"lv1\"\n",
    "print(\"\\n lv1 的設定下，處理結果：\\n\", resultDICT)\n",
    "\n",
    "resultDICT = articut.parse(inputSTR, level=\"lv2\") #注意 level 參數設定為 \"lv2\"\n",
    "print(\"\\n lv2 的設定下，處理結果：\\n\", resultDICT)"
   ]
  },
  {
   "cell_type": "markdown",
   "id": "6dd88e08",
   "metadata": {},
   "source": [
    "# Unit 2"
   ]
  },
  {
   "cell_type": "code",
   "execution_count": 5,
   "id": "5c544452",
   "metadata": {
    "ExecuteTime": {
     "end_time": "2022-12-25T03:28:12.059839Z",
     "start_time": "2022-12-25T03:28:12.051302Z"
    }
   },
   "outputs": [],
   "source": [
    "import json"
   ]
  },
  {
   "cell_type": "code",
   "execution_count": 6,
   "id": "f96bd33f",
   "metadata": {
    "ExecuteTime": {
     "end_time": "2022-12-25T03:28:58.919983Z",
     "start_time": "2022-12-25T03:28:58.907579Z"
    }
   },
   "outputs": [],
   "source": [
    "def wordExtractor(inputLIST):\n",
    "    resultLIST = []\n",
    "    for i in inputLIST:\n",
    "        if i == []:\n",
    "            pass\n",
    "        else:\n",
    "            for e in i:\n",
    "                resultLIST.append(e[-1])\n",
    "    return sorted(list(set(resultLIST)))\n"
   ]
  },
  {
   "cell_type": "code",
   "execution_count": 9,
   "id": "6f0026a8",
   "metadata": {
    "ExecuteTime": {
     "end_time": "2022-12-25T03:30:32.881573Z",
     "start_time": "2022-12-25T03:30:32.874512Z"
    }
   },
   "outputs": [],
   "source": [
    "baseballSTR = \"\"\"馬林魚此戰使用投手車輪戰，4名投手輪番上陣壓制大都會打線，前8局僅被敲出4支安打失1分，\n",
    "    讓球隊能帶著2-1的領先優勢進入到9局下半。不過馬林魚推出巴斯登板關門，他面對首名打者麥尼爾，就被打出一發陽春砲，\n",
    "    讓大都會追平比數，接下來又分別被敲出2支安打、投出保送，形成滿壘局面，此時輪到康福托上場打擊。在2好1壞的局面下，\n",
    "    巴斯投了一顆內角滑球，康福托眼看這顆球越來越靠近自己的身體，似乎有下意識地將手伸進好球帶內，結果這球就直接碰觸到\n",
    "    他的身肘，隨後主審庫爾帕判定這是一記觸身球，讓大都會兵不血刃拿下再見分，最終贏得比賽勝利。\"\"\".replace(\" \", \"\").replace(\"\\n\", \"\")\n",
    "basketballSTR = \"\"\"錯失勝利的太陽沒有就此束手就擒，延長賽一開始就打出7比2攻勢，米契爾和康利雖然力圖追分，\n",
    "    但太陽總能馬上回應。康利讀秒階段上籃得手，布克兩罰一中，再次留給爵士追平機會。米契爾造成犯規，可惜兩罰一中，\n",
    "    保羅隨後用兩罰鎖定勝利。米契爾狂轟41分8籃板3助攻，本季單場得分次高；戈貝爾16分18籃板3抄截，波格丹諾維奇20分。\n",
    "    康利拿到11分4助攻，克拉克森11分，兩人合計28投僅9中。爵士的三分攻勢難以有效施展，全場44投僅11中。\"\"\".replace(\" \", \"\").replace(\"\\n\", \"\")"
   ]
  },
  {
   "cell_type": "code",
   "execution_count": 31,
   "id": "a032bbed",
   "metadata": {
    "ExecuteTime": {
     "end_time": "2022-12-25T04:27:56.816331Z",
     "start_time": "2022-12-25T04:27:56.807833Z"
    }
   },
   "outputs": [],
   "source": [
    "with open(\"KNOWLEDGE_NBA_Teams.json\", encoding=\"utf-8\") as f:\n",
    "    nbaDICT = json.loads(f.read())\n",
    "with open(\"KNOWLEDGE_MLB_Teams.json\", encoding=\"utf-8\") as f:\n",
    "    mlbDICT = json.loads(f.read())"
   ]
  },
  {
   "cell_type": "code",
   "execution_count": 32,
   "id": "b076b2bc",
   "metadata": {
    "ExecuteTime": {
     "end_time": "2022-12-25T04:28:26.634693Z",
     "start_time": "2022-12-25T04:28:26.627487Z"
    }
   },
   "outputs": [],
   "source": [
    "mixedDICT = {**nbaDICT, **mlbDICT}\n",
    "with open(\"mixedDICT.json\", mode=\"w\", encoding=\"utf-8\") as f:\n",
    "    json.dump(mixedDICT, f, ensure_ascii=False)"
   ]
  },
  {
   "cell_type": "code",
   "execution_count": 43,
   "id": "faf89c67",
   "metadata": {
    "ExecuteTime": {
     "end_time": "2022-12-25T04:30:34.005683Z",
     "start_time": "2022-12-25T04:30:27.822840Z"
    }
   },
   "outputs": [],
   "source": [
    "baseballResultDICT = articut.parse(baseballSTR, userDefinedDictFILE=\"./mixedDICT.json\")\n",
    "basketballResultDICT = articut.parse(basketballSTR, userDefinedDictFILE=\"./mixedDICT.json\")"
   ]
  },
  {
   "cell_type": "code",
   "execution_count": 46,
   "id": "a2801164",
   "metadata": {
    "ExecuteTime": {
     "end_time": "2022-12-25T04:34:41.576707Z",
     "start_time": "2022-12-25T04:34:41.560621Z"
    }
   },
   "outputs": [
    {
     "name": "stdout",
     "output_type": "stream",
     "text": [
      "['大都會', '馬林魚', '投手', '敲出', '安打', '2', '1', '巴斯', '局面', '康福托', '被', '此戰', '使用', '車輪戰', '4名', '輪番', '上陣', '壓制', '打線', '前8局']\n",
      "['兩', '米契爾', '康利', '罰', '勝利', '太陽', '攻勢', '爵士', '籃板', '3', '助攻', '11分', '投', '一', '錯失', '束手就擒', '延長賽', '打出', '7', '2']\n",
      "[[(44, 46, '此戰'), (103, 105, '投手'), (133, 136, '車輪戰')], [], [(54, 56, '投手'), (194, 196, '打線')], [], [(174, 176, '安打')], [], [(41, 43, '球隊')], [], [(66, 68, '領先'), (97, 99, '優勢')], [], [(133, 135, '登板')], [], [(117, 119, '打者')], [], [(148, 151, '陽春砲')], [], [(72, 76, '追平比數')], [], [(189, 191, '安打')], [], [], [], [(42, 44, '滿壘'), (75, 77, '局面')], [], [], [], [(176, 178, '局面')], [], [(137, 140, '角滑球')], [], [(48, 49, '眼'), (145, 146, '球'), (315, 317, '身體')], [], [(66, 69, '意識地'), (112, 113, '手')], [], [(41, 43, '這球'), (238, 240, '身肘')], [], [(72, 74, '主審'), (254, 257, '觸身球')], [], [(149, 150, '分')], [], [(64, 66, '比賽'), (95, 97, '勝利')], []]\n",
      "[[(43, 45, '勝利')], [], [(13, 16, '延長賽'), (232, 234, '攻勢')], [], [], [], [], [], [(75, 77, '階段')], [], [(12, 14, '布克'), (119, 120, '中')], [], [(123, 125, '機會')], [], [], [], [(115, 116, '中')], [], [(216, 218, '勝利')], [], [(150, 152, '籃板')], [], [(81, 83, '單場'), (144, 145, '次')], [], [(112, 114, '籃板')], [], [(12, 18, '波格丹諾維奇')], [], [], [], [], [], [(39, 40, '人')], [], [(100, 102, '攻勢')], [], [(39, 40, '場')], []]\n",
      "['上場', '上陣', '伸進', '使用', '保送', '再見', '判定', '到', '壓制', '失', '帶', '形成', '打出', '打擊', '投', '投出', '拿下', '接下來', '推出', '敲', '有下', '看', '碰觸', '讓', '贏得', '越來', '輪到', '進入', '關', '隨', '靠近', '面對']\n",
      "['上籃', '力圖', '助攻', '合計', '回應', '得分', '得手', '打出', '抄截', '投', '拿到', '施展', '比', '犯規', '狂轟', '用', '留給', '罰', '讀秒', '追分', '追平', '造成', '錯失', '鎖定', '開始', '隨']\n"
     ]
    }
   ],
   "source": [
    "baseball_TFIDF = articut.analyse.extract_tags(baseballResultDICT)\n",
    "print(baseball_TFIDF)\n",
    "basketball_TFIDF = articut.analyse.extract_tags(basketballResultDICT)\n",
    "print(basketball_TFIDF)\n",
    "baseballNounLIST = articut.getNounStemLIST(baseballResultDICT)\n",
    "print(baseballNounLIST)\n",
    "basketballNounLIST = articut.getNounStemLIST(basketballResultDICT)\n",
    "print(basketballNounLIST)\n",
    "baseballVerbLIST = articut.getVerbStemLIST(baseballResultDICT)\n",
    "print(wordExtractor(baseballVerbLIST))\n",
    "\n",
    "basketballVerbLIST = articut.getVerbStemLIST(basketballResultDICT)\n",
    "print(wordExtractor(basketballVerbLIST))"
   ]
  },
  {
   "cell_type": "markdown",
   "id": "7b77e42e",
   "metadata": {},
   "source": [
    "# jieba"
   ]
  },
  {
   "cell_type": "code",
   "execution_count": 56,
   "id": "d69fdab1",
   "metadata": {
    "ExecuteTime": {
     "end_time": "2022-12-25T04:45:31.138260Z",
     "start_time": "2022-12-25T04:45:31.114052Z"
    }
   },
   "outputs": [],
   "source": [
    "jieba.load_userdict('./mixedDICT.json')\n",
    "\n",
    "import jieba.analyse"
   ]
  },
  {
   "cell_type": "code",
   "execution_count": 57,
   "id": "bc9d6bd1",
   "metadata": {
    "ExecuteTime": {
     "end_time": "2022-12-25T04:45:31.636914Z",
     "start_time": "2022-12-25T04:45:31.621326Z"
    }
   },
   "outputs": [],
   "source": [
    "baseballResultDICT_jieba = jieba.cut(baseballSTR, cut_all=False)\n",
    "basketballResultDICT_jieba = jieba.cut(basketballSTR, cut_all=False)"
   ]
  },
  {
   "cell_type": "code",
   "execution_count": 72,
   "id": "204440b3",
   "metadata": {
    "ExecuteTime": {
     "end_time": "2022-12-25T04:55:27.829343Z",
     "start_time": "2022-12-25T04:55:27.596082Z"
    },
    "scrolled": false
   },
   "outputs": [
    {
     "name": "stdout",
     "output_type": "stream",
     "text": [
      "[('大都會', 0.4075488921443181), ('林魚', 0.2716992614295454), ('康福托', 0.2716992614295454), ('投手', 0.26598756987727273), ('敲出', 0.25763018851136366), ('巴斯', 0.24187684350000002), ('打者', 0.14547801549204545), ('此戰', 0.1358496307147727), ('車輪戰', 0.1358496307147727), ('輪番上陣', 0.1358496307147727), ('壓制', 0.1358496307147727), ('打線', 0.1358496307147727), ('局僅', 0.1358496307147727), ('支安', 0.1358496307147727), ('打失', 0.1358496307147727), ('球隊', 0.1358496307147727), ('能帶', 0.1358496307147727), ('領先', 0.1358496307147727), ('優勢', 0.1358496307147727), ('進入', 0.1358496307147727)]\n",
      "[('康利', 0.4597987501115384), ('兩罰', 0.4597987501115384), ('11', 0.4597987501115384), ('勝利', 0.30653250007435895), ('太陽', 0.30653250007435895), ('攻勢', 0.30653250007435895), ('契爾', 0.30653250007435895), ('籃板', 0.30653250007435895), ('投僅', 0.30653250007435895), ('助攻', 0.2760303445128205), ('一中', 0.24191716752102566), ('爵士', 0.23221770680820514), ('錯失', 0.15326625003717947), ('沒有', 0.15326625003717947), ('延長', 0.15326625003717947), ('賽一', 0.15326625003717947), ('開始', 0.15326625003717947), ('雖然', 0.15326625003717947), ('力圖', 0.15326625003717947), ('追分', 0.15326625003717947)]\n"
     ]
    },
    {
     "data": {
      "text/plain": [
       "[pair('錯失', 'n'),\n",
       " pair('勝利', 'vn'),\n",
       " pair('的', 'uj'),\n",
       " pair('太陽', 'ns'),\n",
       " pair('沒有', 'v'),\n",
       " pair('就此', 'd'),\n",
       " pair('束手就擒', 'i'),\n",
       " pair('，', 'x'),\n",
       " pair('延長', 'v'),\n",
       " pair('賽一', 'nz'),\n",
       " pair('開始', 'v'),\n",
       " pair('就', 'd'),\n",
       " pair('打出', 'v'),\n",
       " pair('7', 'm'),\n",
       " pair('比', 'p'),\n",
       " pair('2', 'm'),\n",
       " pair('攻勢', 'n'),\n",
       " pair('，', 'x'),\n",
       " pair('米契爾', 'nrt'),\n",
       " pair('和', 'c'),\n",
       " pair('康利', 'nr'),\n",
       " pair('雖然', 'c'),\n",
       " pair('力圖', 'n'),\n",
       " pair('追分', 'v'),\n",
       " pair('，', 'x'),\n",
       " pair('但', 'c'),\n",
       " pair('太陽', 'ns'),\n",
       " pair('總能', 'n'),\n",
       " pair('馬上', 'd'),\n",
       " pair('回應', 'v'),\n",
       " pair('。', 'x'),\n",
       " pair('康利', 'nr'),\n",
       " pair('讀秒階段', 'n'),\n",
       " pair('上籃', 'n'),\n",
       " pair('得手', 'v'),\n",
       " pair('，', 'x'),\n",
       " pair('布克', 'nrt'),\n",
       " pair('兩', 'm'),\n",
       " pair('罰', 'v'),\n",
       " pair('一中', 's'),\n",
       " pair('，', 'x'),\n",
       " pair('再次', 'd'),\n",
       " pair('留給', 'v'),\n",
       " pair('爵士', 'n'),\n",
       " pair('追平', 'v'),\n",
       " pair('機會', 'n'),\n",
       " pair('。', 'x'),\n",
       " pair('米契爾', 'nrt'),\n",
       " pair('造成', 'v'),\n",
       " pair('犯規', 'vn'),\n",
       " pair('，', 'x'),\n",
       " pair('可惜', 'v'),\n",
       " pair('兩', 'm'),\n",
       " pair('罰', 'v'),\n",
       " pair('一中', 's'),\n",
       " pair('，', 'x'),\n",
       " pair('保羅', 'nrt'),\n",
       " pair('隨後', 'd'),\n",
       " pair('用', 'p'),\n",
       " pair('兩', 'm'),\n",
       " pair('罰', 'v'),\n",
       " pair('鎖定', 'v'),\n",
       " pair('勝利', 'vn'),\n",
       " pair('。', 'x'),\n",
       " pair('米契爾', 'nrt'),\n",
       " pair('狂轟', 'i'),\n",
       " pair('41', 'm'),\n",
       " pair('分', 'v'),\n",
       " pair('8', 'm'),\n",
       " pair('籃板', 'n'),\n",
       " pair('3', 'x'),\n",
       " pair('助攻', 'vn'),\n",
       " pair('，', 'x'),\n",
       " pair('本季', 't'),\n",
       " pair('單場', 'n'),\n",
       " pair('得分', 'v'),\n",
       " pair('次', 'm'),\n",
       " pair('高', 'a'),\n",
       " pair('；', 'x'),\n",
       " pair('戈貝爾', 'nr'),\n",
       " pair('16', 'm'),\n",
       " pair('分', 'v'),\n",
       " pair('18', 'm'),\n",
       " pair('籃板', 'n'),\n",
       " pair('3', 'm'),\n",
       " pair('抄', 'v'),\n",
       " pair('截', 'v'),\n",
       " pair('，', 'x'),\n",
       " pair('波格丹', 'ns'),\n",
       " pair('諾維奇', 'nrt'),\n",
       " pair('20', 'm'),\n",
       " pair('分', 'v'),\n",
       " pair('。', 'x'),\n",
       " pair('康利', 'nr'),\n",
       " pair('拿到', 'v'),\n",
       " pair('11', 'm'),\n",
       " pair('分', 'v'),\n",
       " pair('4', 'm'),\n",
       " pair('助攻', 'vn'),\n",
       " pair('，', 'x'),\n",
       " pair('克拉克', 'nrt'),\n",
       " pair('森', 'n'),\n",
       " pair('11', 'm'),\n",
       " pair('分', 'v'),\n",
       " pair('，', 'x'),\n",
       " pair('兩', 'm'),\n",
       " pair('人', 'n'),\n",
       " pair('合計', 'vn'),\n",
       " pair('28', 'm'),\n",
       " pair('投', 'v'),\n",
       " pair('僅', 'd'),\n",
       " pair('9', 'm'),\n",
       " pair('中', 'ns'),\n",
       " pair('。', 'x'),\n",
       " pair('爵士', 'n'),\n",
       " pair('的', 'uj'),\n",
       " pair('三分', 'm'),\n",
       " pair('攻勢', 'n'),\n",
       " pair('難以', 'd'),\n",
       " pair('有效', 'a'),\n",
       " pair('施展', 'vn'),\n",
       " pair('，', 'x'),\n",
       " pair('全場', 'n'),\n",
       " pair('44', 'm'),\n",
       " pair('投', 'v'),\n",
       " pair('僅', 'd'),\n",
       " pair('11', 'm'),\n",
       " pair('中', 'ns'),\n",
       " pair('。', 'x')]"
      ]
     },
     "execution_count": 72,
     "metadata": {},
     "output_type": "execute_result"
    }
   ],
   "source": [
    "baseball_TFIDF_jieba = jieba.analyse.extract_tags(baseballSTR, withWeight=True)\n",
    "print(baseball_TFIDF_jieba)\n",
    "basketball_TFIDF_jieba = jieba.analyse.extract_tags(basketballSTR, withWeight=True)\n",
    "print(basketball_TFIDF_jieba)\n",
    "import jieba.posseg as jp\n",
    "list(jieba.posseg.cut(baseballSTR))\n",
    "list(jieba.posseg.cut(basketballSTR))"
   ]
  },
  {
   "cell_type": "markdown",
   "id": "8eb6ad12",
   "metadata": {},
   "source": [
    "# Unit4"
   ]
  },
  {
   "cell_type": "code",
   "execution_count": 94,
   "id": "295d3ab0",
   "metadata": {
    "ExecuteTime": {
     "end_time": "2022-12-25T06:47:22.102904Z",
     "start_time": "2022-12-25T06:47:22.078626Z"
    }
   },
   "outputs": [],
   "source": [
    "from collections import Counter\n",
    "from itertools import combinations\n",
    "import math"
   ]
  },
  {
   "cell_type": "code",
   "execution_count": 84,
   "id": "fb682255",
   "metadata": {
    "ExecuteTime": {
     "end_time": "2022-12-25T06:45:22.924884Z",
     "start_time": "2022-12-25T06:45:22.908870Z"
    }
   },
   "outputs": [],
   "source": [
    "def wordExtractor(inputLIST, unify=True):\n",
    "    resultLIST = []\n",
    "    for i in inputLIST:\n",
    "        if i == []:\n",
    "            pass\n",
    "        else:\n",
    "            for e in i:\n",
    "                resultLIST.append(e[-1])\n",
    "    if unify == True:\n",
    "        return sorted(list(set(resultLIST)))\n",
    "    else:\n",
    "        return sorted(resultLIST)"
   ]
  },
  {
   "cell_type": "code",
   "execution_count": 74,
   "id": "19b4be3a",
   "metadata": {
    "ExecuteTime": {
     "end_time": "2022-12-25T06:35:14.434993Z",
     "start_time": "2022-12-25T06:35:14.424008Z"
    }
   },
   "outputs": [],
   "source": [
    "def counterCosineSimilarity(count1DICT, count2DICT):\n",
    "    terms = set(count1DICT).union(count2DICT)\n",
    "    dotprod = sum(count1DICT.get(k, 0) * count2DICT.get(k, 0) for k in terms)\n",
    "    magA = math.sqrt(sum(count1DICT.get(k, 0)**2 for k in terms))\n",
    "    magB = math.sqrt(sum(count2DICT.get(k, 0)**2 for k in terms))\n",
    "    similarity = dotprod / (magA * magB) if magA and magB else 0\n",
    "    return similarity"
   ]
  },
  {
   "cell_type": "code",
   "execution_count": 76,
   "id": "65c9ea56",
   "metadata": {
    "ExecuteTime": {
     "end_time": "2022-12-25T06:36:01.726544Z",
     "start_time": "2022-12-25T06:36:01.710155Z"
    }
   },
   "outputs": [],
   "source": [
    "def lengthSimilarity(count1DICT, count2DICT):\n",
    "    lenc1 = sum(iter(count1DICT.values()))\n",
    "    lenc2 = sum(iter(count2DICT.values()))\n",
    "    return min(lenc1, lenc2) / float(max(lenc1, lenc2))"
   ]
  },
  {
   "cell_type": "code",
   "execution_count": 77,
   "id": "d3ce69f6",
   "metadata": {
    "ExecuteTime": {
     "end_time": "2022-12-25T06:36:34.895213Z",
     "start_time": "2022-12-25T06:36:34.882397Z"
    }
   },
   "outputs": [],
   "source": [
    "def counterCombination(counterDICT, N=100):\n",
    "    combLIST = combinations(counterDICT, 2)\n",
    "    resultDICT = {}\n",
    "    for i, comb in enumerate(combLIST):\n",
    "        count1DICT, count2DICT = _normalization(counterDICT[comb[0]], counterDICT[comb[1]], N)\n",
    "        resultDICT[\"{}_{}\".format(i, comb[0])] = count1DICT\n",
    "        resultDICT[\"{}_{}\".format(i, comb[1])] = count2DICT\n",
    "    return resultDICT"
   ]
  },
  {
   "cell_type": "code",
   "execution_count": 108,
   "id": "5f620189",
   "metadata": {
    "ExecuteTime": {
     "end_time": "2022-12-25T06:53:24.898734Z",
     "start_time": "2022-12-25T06:53:24.874489Z"
    }
   },
   "outputs": [],
   "source": [
    "def _normalization(count1DICT, count2DICT, N=100):\n",
    "    if len(count1DICT) <= N and len(count2DICT) <= N:\n",
    "        newcount1DICT = {}\n",
    "        for k, v in count1DICT.items():\n",
    "            if k in count2DICT:\n",
    "                maxV = max(v, count2DICT[k])\n",
    "                if maxV == 1:\n",
    "                    count2DICT.pop(k)\n",
    "                    pass\n",
    "                elif maxV - v == 0:\n",
    "                    newcount1DICT[k] = v - count2DICT[k]\n",
    "                    count2DICT.pop(k)\n",
    "                else:\n",
    "                    count2DICT[k] = maxV - v\n",
    "            else:\n",
    "                newcount1DICT[k] = v\n",
    "        newcount2DICT = count2DICT\n",
    "    else:    # Get Set difference directly.\n",
    "        newcount1DICT = value = {k: count1DICT[k] for k in set(count1DICT) - set(count2DICT)}\n",
    "        newcount2DICT = value = {k: count2DICT[k] for k in set(count2DICT) - set(count1DICT)}\n",
    "\n",
    "    return newcount1DICT, "
   ]
  },
  {
   "cell_type": "code",
   "execution_count": 109,
   "id": "53c5e7b7",
   "metadata": {
    "ExecuteTime": {
     "end_time": "2022-12-25T06:54:37.311248Z",
     "start_time": "2022-12-25T06:54:37.295639Z"
    }
   },
   "outputs": [],
   "source": [
    "def multiModelSimilarity(modelCountDICT, unknownCountDICT):\n",
    "    simDICT = {}\n",
    "    for key, counter in modelCountDICT.items():\n",
    "        key = key[key.index(\"_\")+1:]\n",
    "        if key not in simDICT:\n",
    "            simDICT[key] = 1\n",
    "        simDICT[key] *= counterCosineSimilarity(unknownCountDICT, counter)\n",
    "    return simDICT"
   ]
  },
  {
   "cell_type": "code",
   "execution_count": 78,
   "id": "afdd31d8",
   "metadata": {
    "ExecuteTime": {
     "end_time": "2022-12-25T06:38:26.924017Z",
     "start_time": "2022-12-25T06:38:26.903972Z"
    }
   },
   "outputs": [],
   "source": [
    "baseballSTR = \"\"\"本週三在紐約的比賽中，馬林魚此戰使用投手車輪戰，4名投手輪番上陣壓制大都會打線，前8局僅被敲出4支安打失1分，\n",
    "    讓球隊能帶著2-1的領先優勢進入到9局下半。不過馬林魚推出巴斯登板關門，他面對首名打者麥尼爾，就被打出一發陽春砲，\n",
    "    讓大都會追平比數，接下來又分別被敲出2支安打、投出保送，形成滿壘局面，此時輪到康福托上場打擊。在2好1壞的局面下，\n",
    "    巴斯投了一顆內角滑球，康福托眼看這顆球越來越靠近自己的身體，似乎有下意識地將手伸進好球帶內，結果這球就直接碰觸到\n",
    "    他的身肘，隨後主審庫爾帕判定這是一記觸身球，讓大都會兵不血刃拿下再見分，最終贏得比賽勝利。\"\"\".replace(\" \", \"\").replace(\"\\n\", \"\")\n",
    "\n",
    "basketballSTR = \"\"\"昨晚的紐約西區霸王之戰中，錯失勝利的太陽沒有就此束手就擒，延長賽一開始就打出7比2攻勢，米契爾和康利雖然力圖追分，\n",
    "但太陽總能馬上回應。康利讀秒階段上籃得手，讓布克兩罰一中，再次留給爵士追平機會。米契爾造成犯規，可惜兩罰一中，\n",
    "保羅隨後用兩罰鎖定勝利。米契爾狂轟41分8籃板3助攻，本季單場得分次高；戈貝爾16分18籃板3抄截，波格丹諾維奇20分。\n",
    "康利拿到11分4助攻，克拉克森11分，兩人合計28投僅9中。爵士的三分攻勢難以有效施展，全場44投僅11中。\"\"\".replace(\" \", \"\").replace(\"\\n\", \"\")\n",
    "\n",
    "footballSTR = \"\"\"自2006年起國際足總每屆世界盃都會公布10顆最佳進球候選名單，本屆是繼4年前之後、連2屆沒有4強以後進球入圍，\n",
    "10球有6球出現在小組賽，3球出現在16強，Neymar在本屆唯一入球也是唯一入圍的8強進球。\n",
    "Richarlison在分組首戰第73分鐘接獲Vinícius Júnior左路傳中，先用左腳將球挑高，接著躍起後空中側身用右腳將球掃入球門左下死角，\n",
    "被官方網站形容為「創造魔法」和「無法撲救」。托特納姆熱刺前鋒在16強4比1淘汰韓國時、助森巴軍團3比0領先的進球也入圍候選名單。\"\"\".replace(\" \", \"\").replace(\"\\n\", \"\")\n"
   ]
  },
  {
   "cell_type": "code",
   "execution_count": 79,
   "id": "03053996",
   "metadata": {
    "ExecuteTime": {
     "end_time": "2022-12-25T06:41:16.038711Z",
     "start_time": "2022-12-25T06:41:16.022709Z"
    }
   },
   "outputs": [],
   "source": [
    "with open(\"./KNOWLEDGE_NBA_Teams.json\", encoding=\"utf-8\") as f:\n",
    "    nbaDICT = json.loads(f.read())\n",
    "with open(\"./KNOWLEDGE_MLB_Teams.json\", encoding=\"utf-8\") as f:\n",
    "    mlbDICT = json.loads(f.read())\n",
    "with open(\"./KNOWLEDGE_Football_Teams.json\", encoding=\"utf-8\") as f:\n",
    "    ftbDICT = json.loads(f.read())\n",
    "\n",
    "mixedDICT = {**nbaDICT, **mlbDICT, **ftbDICT}\n",
    "with open(\"mixedDICT.json\", mode=\"w\", encoding=\"utf-8\") as f:\n",
    "    json.dump(mixedDICT, f, ensure_ascii=False)"
   ]
  },
  {
   "cell_type": "code",
   "execution_count": 81,
   "id": "da5a368e",
   "metadata": {
    "ExecuteTime": {
     "end_time": "2022-12-25T06:44:17.289981Z",
     "start_time": "2022-12-25T06:44:09.401975Z"
    }
   },
   "outputs": [],
   "source": [
    "baseballResultDICT = articut.parse(baseballSTR, userDefinedDictFILE=\"./mixedDICT.json\")\n",
    "basketballResultDICT = articut.parse(basketballSTR, userDefinedDictFILE=\"./mixedDICT.json\")\n",
    "footballResultDICT = articut.parse(footballSTR, userDefinedDictFILE=\"./mixedDICT.json\")"
   ]
  },
  {
   "cell_type": "code",
   "execution_count": 85,
   "id": "71e1a297",
   "metadata": {
    "ExecuteTime": {
     "end_time": "2022-12-25T06:45:26.074334Z",
     "start_time": "2022-12-25T06:45:26.064433Z"
    }
   },
   "outputs": [
    {
     "name": "stdout",
     "output_type": "stream",
     "text": [
      "棒球文本動詞：\n",
      "['上場', '上陣', '伸進', '使用', '保送', '再見', '判定', '到', '到', '壓制', '失', '帶', '形成', '打出', '打擊', '投', '投出', '拿下', '接下來', '推出', '敲', '敲', '有下', '看', '碰觸', '讓', '讓', '讓', '贏得', '越來', '輪到', '進入', '關', '隨', '靠近', '面對']\n",
      "\n",
      "\n",
      "籃球文本動詞：\n",
      "['上籃', '力圖', '助攻', '助攻', '合計', '回應', '得分', '得手', '打出', '抄截', '投', '投', '拿到', '施展', '比', '犯規', '狂轟', '用', '留給', '罰', '罰', '罰', '讀秒', '讓', '追分', '追平', '造成', '錯失', '鎖定', '開始', '隨']\n",
      "\n",
      "\n"
     ]
    }
   ],
   "source": [
    "baseballVerbLIST = articut.getVerbStemLIST(baseballResultDICT)\n",
    "print(\"棒球文本動詞：\")\n",
    "print(wordExtractor(baseballVerbLIST, unify=False))\n",
    "print(\"\\n\")\n",
    "print(\"籃球文本動詞：\")\n",
    "basketballVerbLIST = articut.getVerbStemLIST(basketballResultDICT)\n",
    "print(wordExtractor(basketballVerbLIST, unify=False))\n",
    "print(\"\\n\")\n"
   ]
  },
  {
   "cell_type": "code",
   "execution_count": 86,
   "id": "f7103b4f",
   "metadata": {
    "ExecuteTime": {
     "end_time": "2022-12-25T06:45:58.770254Z",
     "start_time": "2022-12-25T06:45:58.752934Z"
    }
   },
   "outputs": [],
   "source": [
    "unknownSTR01 = \"\"\"金鶯隊左投John Means今天在面對水手隊比賽中，完成一項大紀錄，那就是以27個出局數，\n",
    "    在沒有保送、觸身球、失誤的狀況下完成無安打比賽，而John Means差一點就有完全比賽，主要是3局下對Sam Haggerty\n",
    "    投出不死三振，差點就可以完成「完全比賽」，金鶯最終以6:0贏球。根據紀錄，金鶯隊上次左投投出無安打比賽已經是1969年，\n",
    "    也是大聯盟本季第三場無安打比賽，球隊史上第10位投出無安打比賽的投手，而他也是第一位在沒有投出保送、安打、失誤，\n",
    "    卻投出無安打比賽的投手。\"\"\".replace(\" \", \"\").replace(\"\\n\", \"\")"
   ]
  },
  {
   "cell_type": "code",
   "execution_count": 88,
   "id": "61581233",
   "metadata": {
    "ExecuteTime": {
     "end_time": "2022-12-25T06:46:16.479276Z",
     "start_time": "2022-12-25T06:46:13.679735Z"
    }
   },
   "outputs": [
    {
     "name": "stdout",
     "output_type": "stream",
     "text": [
      "未知文本動詞：\n",
      "['保送', '保送', '失誤', '失誤', '完成', '完成', '完成', '左投', '投出', '投出', '投出', '投出', '有', '根據', '死', '贏', '面對']\n",
      "\n",
      "\n"
     ]
    }
   ],
   "source": [
    "unknownResultDICT = articut.parse(unknownSTR01, userDefinedDictFILE=\"./mixedDICT.json\")\n",
    "unknownVerbLIST = articut.getVerbStemLIST(unknownResultDICT)\n",
    "print(\"未知文本動詞：\")\n",
    "print(wordExtractor(unknownVerbLIST, unify=False))\n",
    "print(\"\\n\")\n"
   ]
  },
  {
   "cell_type": "code",
   "execution_count": 90,
   "id": "a3c88651",
   "metadata": {
    "ExecuteTime": {
     "end_time": "2022-12-25T06:46:35.261820Z",
     "start_time": "2022-12-25T06:46:35.245528Z"
    }
   },
   "outputs": [],
   "source": [
    "baseballCOUNT = Counter(wordExtractor(baseballVerbLIST, unify=False))\n",
    "basketballCOUNT = Counter(wordExtractor(basketballVerbLIST, unify=False))\n",
    "unknownCOUNT = Counter(wordExtractor(unknownVerbLIST, unify=False))"
   ]
  },
  {
   "cell_type": "code",
   "execution_count": 95,
   "id": "e4aa6a6f",
   "metadata": {
    "ExecuteTime": {
     "end_time": "2022-12-25T06:47:25.813632Z",
     "start_time": "2022-12-25T06:47:25.808708Z"
    }
   },
   "outputs": [
    {
     "name": "stdout",
     "output_type": "stream",
     "text": [
      "[棒球文本 vs. 未知文本] 的動詞餘弦相似度:0.16526725762745997\n",
      "[籃球文本 vs. 未知文本] 的動詞餘弦相似度:0.0\n"
     ]
    }
   ],
   "source": [
    "baseball2unknownSIM = counterCosineSimilarity(baseballCOUNT, unknownCOUNT)\n",
    "basketball2unknownSIM = counterCosineSimilarity(basketballCOUNT, unknownCOUNT)\n",
    "\n",
    "print(\"[棒球文本 vs. 未知文本] 的動詞餘弦相似度:{}\".format(baseball2unknownSIM))\n",
    "print(\"[籃球文本 vs. 未知文本] 的動詞餘弦相似度:{}\".format(basketball2unknownSIM))\n"
   ]
  },
  {
   "cell_type": "code",
   "execution_count": 96,
   "id": "2fcd8f9d",
   "metadata": {
    "ExecuteTime": {
     "end_time": "2022-12-25T06:47:41.500848Z",
     "start_time": "2022-12-25T06:47:41.487125Z"
    }
   },
   "outputs": [
    {
     "name": "stdout",
     "output_type": "stream",
     "text": [
      "棒球文本名詞：\n",
      "['主審', '優勢', '分', '勝利', '安打', '安打', '局面', '局面', '意識地', '手', '打線', '打者', '投手', '投手', '此戰', '比賽', '比賽', '滿壘', '球', '球隊', '登板', '眼', '角滑球', '觸身球', '身肘', '身體', '車輪戰', '追平比數', '這球', '陽春砲', '領先']\n",
      "\n",
      "\n",
      "籃球文本名詞：\n",
      "['中', '中', '人', '勝利', '勝利', '單場', '場', '布克', '延長賽', '戰', '攻勢', '攻勢', '機會', '次', '波格丹諾維奇', '籃板', '籃板', '階段', '霸王']\n",
      "\n",
      "\n"
     ]
    }
   ],
   "source": [
    "baseballNounLIST = articut.getNounStemLIST(baseballResultDICT)\n",
    "print(\"棒球文本名詞：\")\n",
    "print(wordExtractor(baseballNounLIST, unify=False))\n",
    "print(\"\\n\")\n",
    "print(\"籃球文本名詞：\")\n",
    "basketballNounLIST = articut.getNounStemLIST(basketballResultDICT)\n",
    "print(wordExtractor(basketballNounLIST, unify=False))\n",
    "print(\"\\n\")"
   ]
  },
  {
   "cell_type": "code",
   "execution_count": 97,
   "id": "fe9a8885",
   "metadata": {
    "ExecuteTime": {
     "end_time": "2022-12-25T06:48:10.146998Z",
     "start_time": "2022-12-25T06:48:07.535640Z"
    }
   },
   "outputs": [
    {
     "name": "stdout",
     "output_type": "stream",
     "text": [
      "未知文本名詞：\n",
      "['JohnMeans', 'JohnMeans', 'SamHaggerty', '出局數', '史', '大紀錄', '大聯盟', '安打', '投手', '投手', '比賽', '比賽', '比賽', '比賽', '比賽', '比賽', '比賽', '比賽', '無安打', '無安打', '無安打', '無安打', '無安打', '狀況', '球', '球隊', '紀錄', '觸身球']\n",
      "\n",
      "\n"
     ]
    }
   ],
   "source": [
    "unknownSTR01 = \"\"\"金鶯隊左投John Means今天在面對水手隊比賽中，完成一項大紀錄，那就是以27個出局數，\n",
    "在沒有保送、觸身球、失誤的狀況下完成無安打比賽，而John Means差一點就有完全比賽，主要是3局下對Sam Haggerty\n",
    "投出不死三振，差點就可以完成「完全比賽」，金鶯最終以6:0贏球。根據紀錄，金鶯隊上次左投投出無安打比賽已經是1969年，\n",
    "也是大聯盟本季第三場無安打比賽，球隊史上第10位投出無安打比賽的投手，而他也是第一位在沒有投出保送、安打、失誤，\n",
    "卻投出無安打比賽的投手。\"\"\".replace(\" \", \"\").replace(\"\\n\", \"\")\n",
    "\n",
    "unknownResultDICT = articut.parse(unknownSTR01, userDefinedDictFILE=\"./mixedDICT.json\")\n",
    "unknownNounLIST = articut.getNounStemLIST(unknownResultDICT)\n",
    "print(\"未知文本名詞：\")\n",
    "print(wordExtractor(unknownNounLIST, unify=False))\n",
    "print(\"\\n\")"
   ]
  },
  {
   "cell_type": "code",
   "execution_count": 98,
   "id": "1e319a63",
   "metadata": {
    "ExecuteTime": {
     "end_time": "2022-12-25T06:48:40.468899Z",
     "start_time": "2022-12-25T06:48:40.452558Z"
    }
   },
   "outputs": [
    {
     "name": "stdout",
     "output_type": "stream",
     "text": [
      "[棒球文本 vs. 未知文本] 的名詞餘弦相似度:0.38520846960085353\n",
      "[籃球文本 vs. 未知文本] 的名詞餘弦相似度:0.0\n"
     ]
    }
   ],
   "source": [
    "baseballCOUNT = Counter(wordExtractor(baseballNounLIST, unify=False))\n",
    "basketballCOUNT = Counter(wordExtractor(basketballNounLIST, unify=False))\n",
    "unknownCOUNT = Counter(wordExtractor(unknownNounLIST, unify=False))\n",
    "\n",
    "baseball2unknownSIM = counterCosineSimilarity(baseballCOUNT, unknownCOUNT)\n",
    "basketball2unknownSIM = counterCosineSimilarity(basketballCOUNT, unknownCOUNT)\n",
    "\n",
    "print(\"[棒球文本 vs. 未知文本] 的名詞餘弦相似度:{}\".format(baseball2unknownSIM))\n",
    "print(\"[籃球文本 vs. 未知文本] 的名詞餘弦相似度:{}\".format(basketball2unknownSIM))"
   ]
  },
  {
   "cell_type": "code",
   "execution_count": 99,
   "id": "809f00c6",
   "metadata": {
    "ExecuteTime": {
     "end_time": "2022-12-25T06:48:55.742438Z",
     "start_time": "2022-12-25T06:48:55.734018Z"
    }
   },
   "outputs": [
    {
     "name": "stdout",
     "output_type": "stream",
     "text": [
      "棒球文本 TF-IDF：\n",
      "['大都會', '馬林魚', '投手', '敲出', '安打', '2', '1', '巴斯', '局面', '康福托', '比賽', '被', '週三', '紐約', '此戰', '使用', '車輪戰', '4名', '輪番', '上陣']\n",
      "\n",
      "\n",
      "籃球文本 TF-IDF：\n",
      "['兩', '米契爾', '康利', '罰', '勝利', '太陽', '攻勢', '爵士', '籃板', '3', '助攻', '11分', '投', '一', '昨晚', '紐約', '西區', '霸王', '錯失', '束手就擒']\n",
      "\n",
      "\n"
     ]
    }
   ],
   "source": [
    "baseballTFIDFLIST = articut.analyse.extract_tags(baseballResultDICT)\n",
    "print(\"棒球文本 TF-IDF：\")\n",
    "print(baseballTFIDFLIST)\n",
    "print(\"\\n\")\n",
    "print(\"籃球文本 TF-IDF：\")\n",
    "basketballTFIDFLIST = articut.analyse.extract_tags(basketballResultDICT)\n",
    "print(basketballTFIDFLIST)\n",
    "print(\"\\n\")"
   ]
  },
  {
   "cell_type": "code",
   "execution_count": 112,
   "id": "9b26a68d",
   "metadata": {
    "ExecuteTime": {
     "end_time": "2022-12-25T06:57:54.840911Z",
     "start_time": "2022-12-25T06:57:52.865448Z"
    }
   },
   "outputs": [
    {
     "name": "stdout",
     "output_type": "stream",
     "text": [
      "未知文本 TF-IDF：\n",
      "['失誤', '保羅', '助攻', '0', '拿到', '表現', '統計', '生涯', 'ChrisPaul', '面對', '騎士', '再度', '功力', '整場比賽', '36分鐘', '23分', '16', '6', '籃板', '4']\n",
      "\n",
      "\n"
     ]
    }
   ],
   "source": [
    "unknownSTR02 = \"\"\"保羅（Chris Paul）今日面對騎士再度展現他的「零失誤」功力，整場比賽打了36分鐘，拿到23分16助攻6籃板4抄截2阻攻，\n",
    "    沒有出現1次失誤，這是他今年賽季第10次單場0失誤表現。根據統計，這是保羅生涯第3度至少拿到20分15助攻外加0失誤，自從1977-78年開始統計\n",
    "    失誤以來，只有奈許（Steve Nash）和保羅曾3度達此高標。此外，保羅生涯共44次以0失誤表現達成助攻雙位數，在聯盟歷史上僅次於伯格斯\n",
    "    （Muggsy Bogues）的46次。 \"\"\".replace(\" \", \"\").replace(\"\\n\", \"\")\n",
    "\n",
    "unknownResultDICT = articut.parse(unknownSTR02, userDefinedDictFILE=\"./mixedDICT.json\")\n",
    "unknownTFIDFLIST = articut.analyse.extract_tags(unknownResultDICT)\n",
    "print(\"未知文本 TF-IDF：\")\n",
    "print(unknownTFIDFLIST)\n",
    "print(\"\\n\")"
   ]
  },
  {
   "cell_type": "code",
   "execution_count": 114,
   "id": "94ccbb87",
   "metadata": {
    "ExecuteTime": {
     "end_time": "2022-12-25T06:58:31.449979Z",
     "start_time": "2022-12-25T06:58:31.425614Z"
    }
   },
   "outputs": [
    {
     "name": "stdout",
     "output_type": "stream",
     "text": [
      "[棒球文本 vs. 未知文本] 的 TF-IDF 特徵詞餘弦相似度:0.0\n",
      "[籃球文本 vs. 未知文本] 的 TF-IDF 特徵詞餘弦相似度:0.09999999999999998\n",
      "\n"
     ]
    }
   ],
   "source": [
    "baseballCOUNT = Counter(baseballTFIDFLIST)\n",
    "basketballCOUNT = Counter(basketballTFIDFLIST)\n",
    "unknownCOUNT = Counter(unknownTFIDFLIST)\n",
    "baseball2unknownSIM = counterCosineSimilarity(baseballCOUNT, unknownCOUNT)\n",
    "basketball2unknownSIM = counterCosineSimilarity(basketballCOUNT, unknownCOUNT)\n",
    "\n",
    "print(\"[棒球文本 vs. 未知文本] 的 TF-IDF 特徵詞餘弦相似度:{}\".format(baseball2unknownSIM))\n",
    "print(\"[籃球文本 vs. 未知文本] 的 TF-IDF 特徵詞餘弦相似度:{}\\n\".format(basketball2unknownSIM))\n",
    "\n"
   ]
  },
  {
   "cell_type": "markdown",
   "id": "8ac4185f",
   "metadata": {
    "ExecuteTime": {
     "end_time": "2022-12-25T06:52:54.648383Z",
     "start_time": "2022-12-25T06:52:54.642815Z"
    }
   },
   "source": [
    "# jieba"
   ]
  },
  {
   "cell_type": "code",
   "execution_count": 115,
   "id": "a385f51e",
   "metadata": {
    "ExecuteTime": {
     "end_time": "2022-12-25T06:59:16.006429Z",
     "start_time": "2022-12-25T06:59:15.981607Z"
    }
   },
   "outputs": [
    {
     "name": "stdout",
     "output_type": "stream",
     "text": [
      "['大都會', '比賽', '林魚', '康福托', '投手', '敲出', '巴斯', '打者', '本週', '紐約', '此戰', '車輪戰', '輪番上陣', '壓制', '打線', '局僅', '支安', '打失', '球隊', '能帶']\n",
      "['康利', '兩罰', '11', '勝利', '太陽', '攻勢', '契爾', '籃板', '投僅', '助攻', '一中', '爵士', '紐約', '西區', '之戰', '錯失', '沒有', '延長', '賽一', '開始']\n",
      "['失誤', '保羅', '助攻', '這是', '表現', '統計', '生涯', '拿到', 'ChrisPaul', '面對', '騎士', '展現', '整場', '比賽', '36', '分鐘', '23', '16', '籃板', '抄截']\n"
     ]
    }
   ],
   "source": [
    "baseball_TFIDF_jieba = jieba.analyse.extract_tags(baseballSTR)\n",
    "print(baseball_TFIDF_jieba)\n",
    "basketball_TFIDF_jieba = jieba.analyse.extract_tags(basketballSTR)\n",
    "print(basketball_TFIDF_jieba)\n",
    "unknow_jieba = jieba.analyse.extract_tags(unknownSTR02)\n",
    "print(unknow_jieba)"
   ]
  },
  {
   "cell_type": "code",
   "execution_count": 117,
   "id": "e6b1fec7",
   "metadata": {
    "ExecuteTime": {
     "end_time": "2022-12-25T07:00:18.965527Z",
     "start_time": "2022-12-25T07:00:18.957600Z"
    }
   },
   "outputs": [],
   "source": [
    "baseballCOUNT_jieba = Counter(baseball_TFIDF_jieba)\n",
    "basketballCOUNT_jieba = Counter(basketball_TFIDF_jieba)\n",
    "unknownCOUNT_jieba = Counter(unknow_jieba)"
   ]
  },
  {
   "cell_type": "code",
   "execution_count": 119,
   "id": "bd43912d",
   "metadata": {
    "ExecuteTime": {
     "end_time": "2022-12-25T07:01:14.069614Z",
     "start_time": "2022-12-25T07:01:14.053490Z"
    }
   },
   "outputs": [
    {
     "name": "stdout",
     "output_type": "stream",
     "text": [
      "[棒球文本 vs. 未知文本] 的 TF-IDF 特徵詞餘弦相似度:0.0\n",
      "[籃球文本 vs. 未知文本] 的 TF-IDF 特徵詞餘弦相似度:0.09999999999999998\n",
      "\n"
     ]
    }
   ],
   "source": [
    "baseball2unknownSIM = counterCosineSimilarity(baseballCOUNT_jieba, unknownCOUNT)\n",
    "basketball2unknownSIM = counterCosineSimilarity(basketballCOUNT_jieba, unknownCOUNT)\n",
    "\n",
    "print(\"[棒球文本 vs. 未知文本] 的 TF-IDF 特徵詞餘弦相似度:{}\".format(baseball2unknownSIM))\n",
    "print(\"[籃球文本 vs. 未知文本] 的 TF-IDF 特徵詞餘弦相似度:{}\\n\".format(basketball2unknownSIM))\n",
    "\n"
   ]
  },
  {
   "cell_type": "code",
   "execution_count": null,
   "id": "4d1cfdda",
   "metadata": {},
   "outputs": [],
   "source": []
  },
  {
   "cell_type": "code",
   "execution_count": null,
   "id": "dfe05a31",
   "metadata": {},
   "outputs": [],
   "source": []
  }
 ],
 "metadata": {
  "kernelspec": {
   "display_name": "Python 3 (ipykernel)",
   "language": "python",
   "name": "python3"
  },
  "language_info": {
   "codemirror_mode": {
    "name": "ipython",
    "version": 3
   },
   "file_extension": ".py",
   "mimetype": "text/x-python",
   "name": "python",
   "nbconvert_exporter": "python",
   "pygments_lexer": "ipython3",
   "version": "3.8.8"
  },
  "varInspector": {
   "cols": {
    "lenName": 16,
    "lenType": 16,
    "lenVar": 40
   },
   "kernels_config": {
    "python": {
     "delete_cmd_postfix": "",
     "delete_cmd_prefix": "del ",
     "library": "var_list.py",
     "varRefreshCmd": "print(var_dic_list())"
    },
    "r": {
     "delete_cmd_postfix": ") ",
     "delete_cmd_prefix": "rm(",
     "library": "var_list.r",
     "varRefreshCmd": "cat(var_dic_list()) "
    }
   },
   "types_to_exclude": [
    "module",
    "function",
    "builtin_function_or_method",
    "instance",
    "_Feature"
   ],
   "window_display": false
  }
 },
 "nbformat": 4,
 "nbformat_minor": 5
}
